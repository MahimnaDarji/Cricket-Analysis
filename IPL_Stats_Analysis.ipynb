{
  "nbformat": 4,
  "nbformat_minor": 0,
  "metadata": {
    "colab": {
      "provenance": [],
      "mount_file_id": "19tn46TJpuZPSIpNUPl6n5cspaAVMUEad",
      "authorship_tag": "ABX9TyNU1CidIUwtqJYYdVLmNqQo",
      "include_colab_link": true
    },
    "kernelspec": {
      "name": "python3",
      "display_name": "Python 3"
    },
    "language_info": {
      "name": "python"
    }
  },
  "cells": [
    {
      "cell_type": "markdown",
      "metadata": {
        "id": "view-in-github",
        "colab_type": "text"
      },
      "source": [
        "<a href=\"https://colab.research.google.com/github/MahimnaDarji/Cricket-Analysis/blob/main/IPL_Stats_Analysis.ipynb\" target=\"_parent\"><img src=\"https://colab.research.google.com/assets/colab-badge.svg\" alt=\"Open In Colab\"/></a>"
      ]
    },
    {
      "cell_type": "code",
      "execution_count": 6,
      "metadata": {
        "id": "NkYdsPANAqvh"
      },
      "outputs": [],
      "source": [
        "import numpy as np\n",
        "import pandas as pd\n",
        "import matplotlib.pyplot as plt"
      ]
    },
    {
      "cell_type": "code",
      "source": [
        "deliveries=pd.read_csv('/content/drive/MyDrive/DATASETS/deliveries_updated_mens_ipl.csv')"
      ],
      "metadata": {
        "id": "SS0Pc-szA4N4"
      },
      "execution_count": 7,
      "outputs": []
    },
    {
      "cell_type": "code",
      "source": [
        "deliveries.head(2)"
      ],
      "metadata": {
        "colab": {
          "base_uri": "https://localhost:8080/",
          "height": 245
        },
        "id": "px8WkUs7MN7-",
        "outputId": "bd56150d-b542-49c4-a851-85d73a29ea17"
      },
      "execution_count": 8,
      "outputs": [
        {
          "output_type": "execute_result",
          "data": {
            "text/plain": [
              "   matchId  inning  over_ball  over  ball         batting_team  \\\n",
              "0  1082591       1        0.1     0     1  Sunrisers Hyderabad   \n",
              "1  1082591       1        0.2     0     2  Sunrisers Hyderabad   \n",
              "\n",
              "                  bowling_team    batsman non_striker    bowler  batsman_runs  \\\n",
              "0  Royal Challengers Bangalore  DA Warner    S Dhawan  TS Mills             0   \n",
              "1  Royal Challengers Bangalore  DA Warner    S Dhawan  TS Mills             0   \n",
              "\n",
              "   extras  isWide  isNoBall  Byes  LegByes  Penalty dismissal_kind  \\\n",
              "0       0     NaN       NaN   NaN      NaN      NaN            NaN   \n",
              "1       0     NaN       NaN   NaN      NaN      NaN            NaN   \n",
              "\n",
              "  player_dismissed  \n",
              "0              NaN  \n",
              "1              NaN  "
            ],
            "text/html": [
              "\n",
              "  <div id=\"df-33843717-3d82-4b1b-969e-2175b0a2313a\">\n",
              "    <div class=\"colab-df-container\">\n",
              "      <div>\n",
              "<style scoped>\n",
              "    .dataframe tbody tr th:only-of-type {\n",
              "        vertical-align: middle;\n",
              "    }\n",
              "\n",
              "    .dataframe tbody tr th {\n",
              "        vertical-align: top;\n",
              "    }\n",
              "\n",
              "    .dataframe thead th {\n",
              "        text-align: right;\n",
              "    }\n",
              "</style>\n",
              "<table border=\"1\" class=\"dataframe\">\n",
              "  <thead>\n",
              "    <tr style=\"text-align: right;\">\n",
              "      <th></th>\n",
              "      <th>matchId</th>\n",
              "      <th>inning</th>\n",
              "      <th>over_ball</th>\n",
              "      <th>over</th>\n",
              "      <th>ball</th>\n",
              "      <th>batting_team</th>\n",
              "      <th>bowling_team</th>\n",
              "      <th>batsman</th>\n",
              "      <th>non_striker</th>\n",
              "      <th>bowler</th>\n",
              "      <th>batsman_runs</th>\n",
              "      <th>extras</th>\n",
              "      <th>isWide</th>\n",
              "      <th>isNoBall</th>\n",
              "      <th>Byes</th>\n",
              "      <th>LegByes</th>\n",
              "      <th>Penalty</th>\n",
              "      <th>dismissal_kind</th>\n",
              "      <th>player_dismissed</th>\n",
              "    </tr>\n",
              "  </thead>\n",
              "  <tbody>\n",
              "    <tr>\n",
              "      <th>0</th>\n",
              "      <td>1082591</td>\n",
              "      <td>1</td>\n",
              "      <td>0.1</td>\n",
              "      <td>0</td>\n",
              "      <td>1</td>\n",
              "      <td>Sunrisers Hyderabad</td>\n",
              "      <td>Royal Challengers Bangalore</td>\n",
              "      <td>DA Warner</td>\n",
              "      <td>S Dhawan</td>\n",
              "      <td>TS Mills</td>\n",
              "      <td>0</td>\n",
              "      <td>0</td>\n",
              "      <td>NaN</td>\n",
              "      <td>NaN</td>\n",
              "      <td>NaN</td>\n",
              "      <td>NaN</td>\n",
              "      <td>NaN</td>\n",
              "      <td>NaN</td>\n",
              "      <td>NaN</td>\n",
              "    </tr>\n",
              "    <tr>\n",
              "      <th>1</th>\n",
              "      <td>1082591</td>\n",
              "      <td>1</td>\n",
              "      <td>0.2</td>\n",
              "      <td>0</td>\n",
              "      <td>2</td>\n",
              "      <td>Sunrisers Hyderabad</td>\n",
              "      <td>Royal Challengers Bangalore</td>\n",
              "      <td>DA Warner</td>\n",
              "      <td>S Dhawan</td>\n",
              "      <td>TS Mills</td>\n",
              "      <td>0</td>\n",
              "      <td>0</td>\n",
              "      <td>NaN</td>\n",
              "      <td>NaN</td>\n",
              "      <td>NaN</td>\n",
              "      <td>NaN</td>\n",
              "      <td>NaN</td>\n",
              "      <td>NaN</td>\n",
              "      <td>NaN</td>\n",
              "    </tr>\n",
              "  </tbody>\n",
              "</table>\n",
              "</div>\n",
              "      <button class=\"colab-df-convert\" onclick=\"convertToInteractive('df-33843717-3d82-4b1b-969e-2175b0a2313a')\"\n",
              "              title=\"Convert this dataframe to an interactive table.\"\n",
              "              style=\"display:none;\">\n",
              "        \n",
              "  <svg xmlns=\"http://www.w3.org/2000/svg\" height=\"24px\"viewBox=\"0 0 24 24\"\n",
              "       width=\"24px\">\n",
              "    <path d=\"M0 0h24v24H0V0z\" fill=\"none\"/>\n",
              "    <path d=\"M18.56 5.44l.94 2.06.94-2.06 2.06-.94-2.06-.94-.94-2.06-.94 2.06-2.06.94zm-11 1L8.5 8.5l.94-2.06 2.06-.94-2.06-.94L8.5 2.5l-.94 2.06-2.06.94zm10 10l.94 2.06.94-2.06 2.06-.94-2.06-.94-.94-2.06-.94 2.06-2.06.94z\"/><path d=\"M17.41 7.96l-1.37-1.37c-.4-.4-.92-.59-1.43-.59-.52 0-1.04.2-1.43.59L10.3 9.45l-7.72 7.72c-.78.78-.78 2.05 0 2.83L4 21.41c.39.39.9.59 1.41.59.51 0 1.02-.2 1.41-.59l7.78-7.78 2.81-2.81c.8-.78.8-2.07 0-2.86zM5.41 20L4 18.59l7.72-7.72 1.47 1.35L5.41 20z\"/>\n",
              "  </svg>\n",
              "      </button>\n",
              "      \n",
              "  <style>\n",
              "    .colab-df-container {\n",
              "      display:flex;\n",
              "      flex-wrap:wrap;\n",
              "      gap: 12px;\n",
              "    }\n",
              "\n",
              "    .colab-df-convert {\n",
              "      background-color: #E8F0FE;\n",
              "      border: none;\n",
              "      border-radius: 50%;\n",
              "      cursor: pointer;\n",
              "      display: none;\n",
              "      fill: #1967D2;\n",
              "      height: 32px;\n",
              "      padding: 0 0 0 0;\n",
              "      width: 32px;\n",
              "    }\n",
              "\n",
              "    .colab-df-convert:hover {\n",
              "      background-color: #E2EBFA;\n",
              "      box-shadow: 0px 1px 2px rgba(60, 64, 67, 0.3), 0px 1px 3px 1px rgba(60, 64, 67, 0.15);\n",
              "      fill: #174EA6;\n",
              "    }\n",
              "\n",
              "    [theme=dark] .colab-df-convert {\n",
              "      background-color: #3B4455;\n",
              "      fill: #D2E3FC;\n",
              "    }\n",
              "\n",
              "    [theme=dark] .colab-df-convert:hover {\n",
              "      background-color: #434B5C;\n",
              "      box-shadow: 0px 1px 3px 1px rgba(0, 0, 0, 0.15);\n",
              "      filter: drop-shadow(0px 1px 2px rgba(0, 0, 0, 0.3));\n",
              "      fill: #FFFFFF;\n",
              "    }\n",
              "  </style>\n",
              "\n",
              "      <script>\n",
              "        const buttonEl =\n",
              "          document.querySelector('#df-33843717-3d82-4b1b-969e-2175b0a2313a button.colab-df-convert');\n",
              "        buttonEl.style.display =\n",
              "          google.colab.kernel.accessAllowed ? 'block' : 'none';\n",
              "\n",
              "        async function convertToInteractive(key) {\n",
              "          const element = document.querySelector('#df-33843717-3d82-4b1b-969e-2175b0a2313a');\n",
              "          const dataTable =\n",
              "            await google.colab.kernel.invokeFunction('convertToInteractive',\n",
              "                                                     [key], {});\n",
              "          if (!dataTable) return;\n",
              "\n",
              "          const docLinkHtml = 'Like what you see? Visit the ' +\n",
              "            '<a target=\"_blank\" href=https://colab.research.google.com/notebooks/data_table.ipynb>data table notebook</a>'\n",
              "            + ' to learn more about interactive tables.';\n",
              "          element.innerHTML = '';\n",
              "          dataTable['output_type'] = 'display_data';\n",
              "          await google.colab.output.renderOutput(dataTable, element);\n",
              "          const docLink = document.createElement('div');\n",
              "          docLink.innerHTML = docLinkHtml;\n",
              "          element.appendChild(docLink);\n",
              "        }\n",
              "      </script>\n",
              "    </div>\n",
              "  </div>\n",
              "  "
            ]
          },
          "metadata": {},
          "execution_count": 8
        }
      ]
    },
    {
      "cell_type": "code",
      "source": [
        "def balls_per_dismissal(balls, dismissals):\n",
        "    if dismissals > 0:\n",
        "        return balls/dismissals\n",
        "    else:\n",
        "        return balls/1 \n",
        "    \n",
        "def balls_per_boundary(balls, boundaries):\n",
        "    if boundaries > 0:\n",
        "        return balls/boundaries\n",
        "    else:\n",
        "        return balls/1 \n",
        "\n",
        "def playerStatistics(df):\n",
        "    \n",
        "    df['isDot'] = df['batsman_runs'].apply(lambda x: 1 if x == 0 else 0)\n",
        "    df['isOne'] = df['batsman_runs'].apply(lambda x: 1 if x == 1 else 0)\n",
        "    df['isTwo'] = df['batsman_runs'].apply(lambda x: 1 if x == 2 else 0)\n",
        "    df['isThree'] = df['batsman_runs'].apply(lambda x: 1 if x == 3 else 0)\n",
        "    df['isFour'] = df['batsman_runs'].apply(lambda x: 1 if x == 4 else 0)\n",
        "    df['isSix'] = df['batsman_runs'].apply(lambda x: 1 if x == 6 else 0)\n",
        "    \n",
        "    runs = pd.DataFrame(df.groupby(['batsman'])['batsman_runs'].sum().reset_index()).rename(columns={'batsman_runs':'runs'})\n",
        "    innings = pd.DataFrame(df.groupby(['batsman'])['matchId'].apply(lambda x: len(list(np.unique(x)))).reset_index()).rename(columns = {'matchId':'innings'})\n",
        "    balls = pd.DataFrame(df.groupby(['batsman'])['matchId'].count()).reset_index().rename(columns = {'matchId':'balls'})\n",
        "    dismissals = pd.DataFrame(df.groupby(['batsman'])['player_dismissed'].count()).reset_index().rename(columns = {'player_dismissed':'dismissals'})\n",
        "    \n",
        "    dots = pd.DataFrame(df.groupby(['batsman'])['isDot'].sum()).reset_index().rename(columns = {'isDot':'dots'})\n",
        "    ones = pd.DataFrame(df.groupby(['batsman'])['isOne'].sum()).reset_index().rename(columns = {'isOne':'ones'})\n",
        "    twos = pd.DataFrame(df.groupby(['batsman'])['isTwo'].sum()).reset_index().rename(columns = {'isTwo':'twos'})\n",
        "    threes = pd.DataFrame(df.groupby(['batsman'])['isThree'].sum()).reset_index().rename(columns = {'isThree':'threes'})\n",
        "    fours = pd.DataFrame(df.groupby(['batsman'])['isFour'].sum()).reset_index().rename(columns = {'isFour':'fours'})\n",
        "    sixes = pd.DataFrame(df.groupby(['batsman'])['isSix'].sum()).reset_index().rename(columns = {'isSix':'sixes'})\n",
        "    \n",
        "    df = pd.merge(innings, runs, on = 'batsman').merge(balls, on = 'batsman').merge(dismissals, on = 'batsman').merge(dots, on = 'batsman').merge(ones, on = 'batsman').merge(twos, on = 'batsman').merge(threes, on = 'batsman').merge(fours, on = 'batsman').merge(sixes, on = 'batsman')\n",
        "    \n",
        "    #StrikeRate\n",
        "    df['SR'] = df.apply(lambda x: 100*(x['runs']/x['balls']), axis = 1)\n",
        "\n",
        "    #runs per innings\n",
        "    df['RPI'] = df.apply(lambda x: x['runs']/x['innings'], axis = 1)\n",
        "\n",
        "    #balls per dismissals\n",
        "    df['BPD'] = df.apply(lambda x: balls_per_dismissal(x['balls'], x['dismissals']), axis = 1)\n",
        "\n",
        "    #balls per boundary\n",
        "    df['BPB'] = df.apply(lambda x: balls_per_boundary(x['balls'], (x['fours'] + x['sixes'])), axis = 1)\n",
        "    \n",
        "    return df"
      ],
      "metadata": {
        "id": "ojptPZ1gMPwO"
      },
      "execution_count": 9,
      "outputs": []
    },
    {
      "cell_type": "code",
      "source": [
        "df = playerStatistics(deliveries)"
      ],
      "metadata": {
        "id": "KxBWjPHQMWdo"
      },
      "execution_count": 10,
      "outputs": []
    },
    {
      "cell_type": "code",
      "source": [
        "df.head(5)"
      ],
      "metadata": {
        "colab": {
          "base_uri": "https://localhost:8080/",
          "height": 206
        },
        "id": "DLTLFD90MYZM",
        "outputId": "96464ee7-fbca-47d2-ca9a-150cb737339c"
      },
      "execution_count": 11,
      "outputs": [
        {
          "output_type": "execute_result",
          "data": {
            "text/plain": [
              "          batsman  innings  runs  balls  dismissals  dots  ones  twos  threes  \\\n",
              "0  A Ashish Reddy       23   280    196          15    61    83    20       1   \n",
              "1        A Badoni       11   161    139           9    57    53    11       0   \n",
              "2      A Chandila        2     4      7           1     3     4     0       0   \n",
              "3        A Chopra        6    53     75           5    45    21     2       0   \n",
              "4     A Choudhary        3    25     20           2     4    13     1       0   \n",
              "\n",
              "   fours  sixes          SR        RPI        BPD        BPB  \n",
              "0     16     15  142.857143  12.173913  13.066667   6.322581  \n",
              "1     11      7  115.827338  14.636364  15.444444   7.722222  \n",
              "2      0      0   57.142857   2.000000   7.000000   7.000000  \n",
              "3      7      0   70.666667   8.833333  15.000000  10.714286  \n",
              "4      1      1  125.000000   8.333333  10.000000  10.000000  "
            ],
            "text/html": [
              "\n",
              "  <div id=\"df-f4b330b9-fe29-4b9d-bf5b-5322c7e68f9a\">\n",
              "    <div class=\"colab-df-container\">\n",
              "      <div>\n",
              "<style scoped>\n",
              "    .dataframe tbody tr th:only-of-type {\n",
              "        vertical-align: middle;\n",
              "    }\n",
              "\n",
              "    .dataframe tbody tr th {\n",
              "        vertical-align: top;\n",
              "    }\n",
              "\n",
              "    .dataframe thead th {\n",
              "        text-align: right;\n",
              "    }\n",
              "</style>\n",
              "<table border=\"1\" class=\"dataframe\">\n",
              "  <thead>\n",
              "    <tr style=\"text-align: right;\">\n",
              "      <th></th>\n",
              "      <th>batsman</th>\n",
              "      <th>innings</th>\n",
              "      <th>runs</th>\n",
              "      <th>balls</th>\n",
              "      <th>dismissals</th>\n",
              "      <th>dots</th>\n",
              "      <th>ones</th>\n",
              "      <th>twos</th>\n",
              "      <th>threes</th>\n",
              "      <th>fours</th>\n",
              "      <th>sixes</th>\n",
              "      <th>SR</th>\n",
              "      <th>RPI</th>\n",
              "      <th>BPD</th>\n",
              "      <th>BPB</th>\n",
              "    </tr>\n",
              "  </thead>\n",
              "  <tbody>\n",
              "    <tr>\n",
              "      <th>0</th>\n",
              "      <td>A Ashish Reddy</td>\n",
              "      <td>23</td>\n",
              "      <td>280</td>\n",
              "      <td>196</td>\n",
              "      <td>15</td>\n",
              "      <td>61</td>\n",
              "      <td>83</td>\n",
              "      <td>20</td>\n",
              "      <td>1</td>\n",
              "      <td>16</td>\n",
              "      <td>15</td>\n",
              "      <td>142.857143</td>\n",
              "      <td>12.173913</td>\n",
              "      <td>13.066667</td>\n",
              "      <td>6.322581</td>\n",
              "    </tr>\n",
              "    <tr>\n",
              "      <th>1</th>\n",
              "      <td>A Badoni</td>\n",
              "      <td>11</td>\n",
              "      <td>161</td>\n",
              "      <td>139</td>\n",
              "      <td>9</td>\n",
              "      <td>57</td>\n",
              "      <td>53</td>\n",
              "      <td>11</td>\n",
              "      <td>0</td>\n",
              "      <td>11</td>\n",
              "      <td>7</td>\n",
              "      <td>115.827338</td>\n",
              "      <td>14.636364</td>\n",
              "      <td>15.444444</td>\n",
              "      <td>7.722222</td>\n",
              "    </tr>\n",
              "    <tr>\n",
              "      <th>2</th>\n",
              "      <td>A Chandila</td>\n",
              "      <td>2</td>\n",
              "      <td>4</td>\n",
              "      <td>7</td>\n",
              "      <td>1</td>\n",
              "      <td>3</td>\n",
              "      <td>4</td>\n",
              "      <td>0</td>\n",
              "      <td>0</td>\n",
              "      <td>0</td>\n",
              "      <td>0</td>\n",
              "      <td>57.142857</td>\n",
              "      <td>2.000000</td>\n",
              "      <td>7.000000</td>\n",
              "      <td>7.000000</td>\n",
              "    </tr>\n",
              "    <tr>\n",
              "      <th>3</th>\n",
              "      <td>A Chopra</td>\n",
              "      <td>6</td>\n",
              "      <td>53</td>\n",
              "      <td>75</td>\n",
              "      <td>5</td>\n",
              "      <td>45</td>\n",
              "      <td>21</td>\n",
              "      <td>2</td>\n",
              "      <td>0</td>\n",
              "      <td>7</td>\n",
              "      <td>0</td>\n",
              "      <td>70.666667</td>\n",
              "      <td>8.833333</td>\n",
              "      <td>15.000000</td>\n",
              "      <td>10.714286</td>\n",
              "    </tr>\n",
              "    <tr>\n",
              "      <th>4</th>\n",
              "      <td>A Choudhary</td>\n",
              "      <td>3</td>\n",
              "      <td>25</td>\n",
              "      <td>20</td>\n",
              "      <td>2</td>\n",
              "      <td>4</td>\n",
              "      <td>13</td>\n",
              "      <td>1</td>\n",
              "      <td>0</td>\n",
              "      <td>1</td>\n",
              "      <td>1</td>\n",
              "      <td>125.000000</td>\n",
              "      <td>8.333333</td>\n",
              "      <td>10.000000</td>\n",
              "      <td>10.000000</td>\n",
              "    </tr>\n",
              "  </tbody>\n",
              "</table>\n",
              "</div>\n",
              "      <button class=\"colab-df-convert\" onclick=\"convertToInteractive('df-f4b330b9-fe29-4b9d-bf5b-5322c7e68f9a')\"\n",
              "              title=\"Convert this dataframe to an interactive table.\"\n",
              "              style=\"display:none;\">\n",
              "        \n",
              "  <svg xmlns=\"http://www.w3.org/2000/svg\" height=\"24px\"viewBox=\"0 0 24 24\"\n",
              "       width=\"24px\">\n",
              "    <path d=\"M0 0h24v24H0V0z\" fill=\"none\"/>\n",
              "    <path d=\"M18.56 5.44l.94 2.06.94-2.06 2.06-.94-2.06-.94-.94-2.06-.94 2.06-2.06.94zm-11 1L8.5 8.5l.94-2.06 2.06-.94-2.06-.94L8.5 2.5l-.94 2.06-2.06.94zm10 10l.94 2.06.94-2.06 2.06-.94-2.06-.94-.94-2.06-.94 2.06-2.06.94z\"/><path d=\"M17.41 7.96l-1.37-1.37c-.4-.4-.92-.59-1.43-.59-.52 0-1.04.2-1.43.59L10.3 9.45l-7.72 7.72c-.78.78-.78 2.05 0 2.83L4 21.41c.39.39.9.59 1.41.59.51 0 1.02-.2 1.41-.59l7.78-7.78 2.81-2.81c.8-.78.8-2.07 0-2.86zM5.41 20L4 18.59l7.72-7.72 1.47 1.35L5.41 20z\"/>\n",
              "  </svg>\n",
              "      </button>\n",
              "      \n",
              "  <style>\n",
              "    .colab-df-container {\n",
              "      display:flex;\n",
              "      flex-wrap:wrap;\n",
              "      gap: 12px;\n",
              "    }\n",
              "\n",
              "    .colab-df-convert {\n",
              "      background-color: #E8F0FE;\n",
              "      border: none;\n",
              "      border-radius: 50%;\n",
              "      cursor: pointer;\n",
              "      display: none;\n",
              "      fill: #1967D2;\n",
              "      height: 32px;\n",
              "      padding: 0 0 0 0;\n",
              "      width: 32px;\n",
              "    }\n",
              "\n",
              "    .colab-df-convert:hover {\n",
              "      background-color: #E2EBFA;\n",
              "      box-shadow: 0px 1px 2px rgba(60, 64, 67, 0.3), 0px 1px 3px 1px rgba(60, 64, 67, 0.15);\n",
              "      fill: #174EA6;\n",
              "    }\n",
              "\n",
              "    [theme=dark] .colab-df-convert {\n",
              "      background-color: #3B4455;\n",
              "      fill: #D2E3FC;\n",
              "    }\n",
              "\n",
              "    [theme=dark] .colab-df-convert:hover {\n",
              "      background-color: #434B5C;\n",
              "      box-shadow: 0px 1px 3px 1px rgba(0, 0, 0, 0.15);\n",
              "      filter: drop-shadow(0px 1px 2px rgba(0, 0, 0, 0.3));\n",
              "      fill: #FFFFFF;\n",
              "    }\n",
              "  </style>\n",
              "\n",
              "      <script>\n",
              "        const buttonEl =\n",
              "          document.querySelector('#df-f4b330b9-fe29-4b9d-bf5b-5322c7e68f9a button.colab-df-convert');\n",
              "        buttonEl.style.display =\n",
              "          google.colab.kernel.accessAllowed ? 'block' : 'none';\n",
              "\n",
              "        async function convertToInteractive(key) {\n",
              "          const element = document.querySelector('#df-f4b330b9-fe29-4b9d-bf5b-5322c7e68f9a');\n",
              "          const dataTable =\n",
              "            await google.colab.kernel.invokeFunction('convertToInteractive',\n",
              "                                                     [key], {});\n",
              "          if (!dataTable) return;\n",
              "\n",
              "          const docLinkHtml = 'Like what you see? Visit the ' +\n",
              "            '<a target=\"_blank\" href=https://colab.research.google.com/notebooks/data_table.ipynb>data table notebook</a>'\n",
              "            + ' to learn more about interactive tables.';\n",
              "          element.innerHTML = '';\n",
              "          dataTable['output_type'] = 'display_data';\n",
              "          await google.colab.output.renderOutput(dataTable, element);\n",
              "          const docLink = document.createElement('div');\n",
              "          docLink.innerHTML = docLinkHtml;\n",
              "          element.appendChild(docLink);\n",
              "        }\n",
              "      </script>\n",
              "    </div>\n",
              "  </div>\n",
              "  "
            ]
          },
          "metadata": {},
          "execution_count": 11
        }
      ]
    },
    {
      "cell_type": "code",
      "source": [
        "def phase(over):\n",
        "  if over < 6:\n",
        "    return 'Powerplay'\n",
        "  elif over<=15:\n",
        "    return 'Middle Overs'\n",
        "  else:\n",
        "    return 'Death Overs'"
      ],
      "metadata": {
        "id": "1jguZqHZMpIt"
      },
      "execution_count": 12,
      "outputs": []
    },
    {
      "cell_type": "code",
      "source": [
        "deliveries['phase']=deliveries['over'].apply(lambda x: phase(x))"
      ],
      "metadata": {
        "id": "ogNdPu3zNeR-"
      },
      "execution_count": 13,
      "outputs": []
    },
    {
      "cell_type": "code",
      "source": [
        "def phaseofplay(df,currentphase):\n",
        "  df=df[df.phase == currentphase]\n",
        "  df.reset_index(inplace=True,drop=True)\n",
        "\n",
        "  df['isDot'] = df['batsman_runs'].apply(lambda x: 1 if x == 0 else 0)\n",
        "  df['isOne'] = df['batsman_runs'].apply(lambda x: 1 if x == 1 else 0)\n",
        "  df['isTwo'] = df['batsman_runs'].apply(lambda x: 1 if x == 2 else 0)\n",
        "  df['isThree'] = df['batsman_runs'].apply(lambda x: 1 if x == 3 else 0)\n",
        "  df['isFour'] = df['batsman_runs'].apply(lambda x: 1 if x == 4 else 0)\n",
        "  df['isSix'] = df['batsman_runs'].apply(lambda x: 1 if x == 6 else 0)\n",
        "  \n",
        "  runs = pd.DataFrame(df.groupby(['batsman'])['batsman_runs'].sum().reset_index()).rename(columns={'batsman_runs':'runs'})\n",
        "  innings = pd.DataFrame(df.groupby(['batsman'])['matchId'].apply(lambda x: len(list(np.unique(x)))).reset_index()).rename(columns = {'matchId':'innings'})\n",
        "  balls = pd.DataFrame(df.groupby(['batsman'])['matchId'].count()).reset_index().rename(columns = {'matchId':'balls'})\n",
        "  dismissals = pd.DataFrame(df.groupby(['batsman'])['player_dismissed'].count()).reset_index().rename(columns = {'player_dismissed':'dismissals'})\n",
        "  \n",
        "  dots = pd.DataFrame(df.groupby(['batsman'])['isDot'].sum()).reset_index().rename(columns = {'isDot':'dots'})\n",
        "  ones = pd.DataFrame(df.groupby(['batsman'])['isOne'].sum()).reset_index().rename(columns = {'isOne':'ones'})\n",
        "  twos = pd.DataFrame(df.groupby(['batsman'])['isTwo'].sum()).reset_index().rename(columns = {'isTwo':'twos'})\n",
        "  threes = pd.DataFrame(df.groupby(['batsman'])['isThree'].sum()).reset_index().rename(columns = {'isThree':'threes'})\n",
        "  fours = pd.DataFrame(df.groupby(['batsman'])['isFour'].sum()).reset_index().rename(columns = {'isFour':'fours'})\n",
        "  sixes = pd.DataFrame(df.groupby(['batsman'])['isSix'].sum()).reset_index().rename(columns = {'isSix':'sixes'})\n",
        "  \n",
        "  df = pd.merge(innings, runs, on = 'batsman').merge(balls, on = 'batsman').merge(dismissals, on = 'batsman').merge(dots, on = 'batsman').merge(ones, on = 'batsman').merge(twos, on = 'batsman').merge(threes, on = 'batsman').merge(fours, on = 'batsman').merge(sixes, on = 'batsman')\n",
        "  \n",
        "  #StrikeRate\n",
        "  df['SR'] = df.apply(lambda x: 100*(x['runs']/x['balls']), axis = 1)\n",
        "\n",
        "  #runs per innings\n",
        "  df['RPI'] = df.apply(lambda x: x['runs']/x['innings'], axis = 1)\n",
        "\n",
        "  #balls per dismissals\n",
        "  df['BPD'] = df.apply(lambda x: balls_per_dismissal(x['balls'], x['dismissals']), axis = 1)\n",
        "\n",
        "  #balls per boundary\n",
        "  df['BPB'] = df.apply(lambda x: balls_per_boundary(x['balls'], (x['fours'] + x['sixes'])), axis = 1)\n",
        "  \n",
        "  return df"
      ],
      "metadata": {
        "id": "dhlfqPbZNpIB"
      },
      "execution_count": 14,
      "outputs": []
    },
    {
      "cell_type": "code",
      "source": [
        "pp_stats=phaseofplay(deliveries,'Powerplay')\n",
        "mo_stats=phaseofplay(deliveries,'Middle Overs')\n",
        "do_stats=phaseofplay(deliveries,'Death Overs')"
      ],
      "metadata": {
        "colab": {
          "base_uri": "https://localhost:8080/"
        },
        "id": "TkXoacLVN7Ei",
        "outputId": "56a19c1c-3302-40ae-b21c-618e78d18593"
      },
      "execution_count": 15,
      "outputs": [
        {
          "output_type": "stream",
          "name": "stderr",
          "text": [
            "<ipython-input-14-0da16a9c6b6c>:5: SettingWithCopyWarning: \n",
            "A value is trying to be set on a copy of a slice from a DataFrame.\n",
            "Try using .loc[row_indexer,col_indexer] = value instead\n",
            "\n",
            "See the caveats in the documentation: https://pandas.pydata.org/pandas-docs/stable/user_guide/indexing.html#returning-a-view-versus-a-copy\n",
            "  df['isDot'] = df['batsman_runs'].apply(lambda x: 1 if x == 0 else 0)\n",
            "<ipython-input-14-0da16a9c6b6c>:6: SettingWithCopyWarning: \n",
            "A value is trying to be set on a copy of a slice from a DataFrame.\n",
            "Try using .loc[row_indexer,col_indexer] = value instead\n",
            "\n",
            "See the caveats in the documentation: https://pandas.pydata.org/pandas-docs/stable/user_guide/indexing.html#returning-a-view-versus-a-copy\n",
            "  df['isOne'] = df['batsman_runs'].apply(lambda x: 1 if x == 1 else 0)\n",
            "<ipython-input-14-0da16a9c6b6c>:7: SettingWithCopyWarning: \n",
            "A value is trying to be set on a copy of a slice from a DataFrame.\n",
            "Try using .loc[row_indexer,col_indexer] = value instead\n",
            "\n",
            "See the caveats in the documentation: https://pandas.pydata.org/pandas-docs/stable/user_guide/indexing.html#returning-a-view-versus-a-copy\n",
            "  df['isTwo'] = df['batsman_runs'].apply(lambda x: 1 if x == 2 else 0)\n",
            "<ipython-input-14-0da16a9c6b6c>:8: SettingWithCopyWarning: \n",
            "A value is trying to be set on a copy of a slice from a DataFrame.\n",
            "Try using .loc[row_indexer,col_indexer] = value instead\n",
            "\n",
            "See the caveats in the documentation: https://pandas.pydata.org/pandas-docs/stable/user_guide/indexing.html#returning-a-view-versus-a-copy\n",
            "  df['isThree'] = df['batsman_runs'].apply(lambda x: 1 if x == 3 else 0)\n",
            "<ipython-input-14-0da16a9c6b6c>:9: SettingWithCopyWarning: \n",
            "A value is trying to be set on a copy of a slice from a DataFrame.\n",
            "Try using .loc[row_indexer,col_indexer] = value instead\n",
            "\n",
            "See the caveats in the documentation: https://pandas.pydata.org/pandas-docs/stable/user_guide/indexing.html#returning-a-view-versus-a-copy\n",
            "  df['isFour'] = df['batsman_runs'].apply(lambda x: 1 if x == 4 else 0)\n",
            "<ipython-input-14-0da16a9c6b6c>:10: SettingWithCopyWarning: \n",
            "A value is trying to be set on a copy of a slice from a DataFrame.\n",
            "Try using .loc[row_indexer,col_indexer] = value instead\n",
            "\n",
            "See the caveats in the documentation: https://pandas.pydata.org/pandas-docs/stable/user_guide/indexing.html#returning-a-view-versus-a-copy\n",
            "  df['isSix'] = df['batsman_runs'].apply(lambda x: 1 if x == 6 else 0)\n",
            "<ipython-input-14-0da16a9c6b6c>:5: SettingWithCopyWarning: \n",
            "A value is trying to be set on a copy of a slice from a DataFrame.\n",
            "Try using .loc[row_indexer,col_indexer] = value instead\n",
            "\n",
            "See the caveats in the documentation: https://pandas.pydata.org/pandas-docs/stable/user_guide/indexing.html#returning-a-view-versus-a-copy\n",
            "  df['isDot'] = df['batsman_runs'].apply(lambda x: 1 if x == 0 else 0)\n",
            "<ipython-input-14-0da16a9c6b6c>:6: SettingWithCopyWarning: \n",
            "A value is trying to be set on a copy of a slice from a DataFrame.\n",
            "Try using .loc[row_indexer,col_indexer] = value instead\n",
            "\n",
            "See the caveats in the documentation: https://pandas.pydata.org/pandas-docs/stable/user_guide/indexing.html#returning-a-view-versus-a-copy\n",
            "  df['isOne'] = df['batsman_runs'].apply(lambda x: 1 if x == 1 else 0)\n",
            "<ipython-input-14-0da16a9c6b6c>:7: SettingWithCopyWarning: \n",
            "A value is trying to be set on a copy of a slice from a DataFrame.\n",
            "Try using .loc[row_indexer,col_indexer] = value instead\n",
            "\n",
            "See the caveats in the documentation: https://pandas.pydata.org/pandas-docs/stable/user_guide/indexing.html#returning-a-view-versus-a-copy\n",
            "  df['isTwo'] = df['batsman_runs'].apply(lambda x: 1 if x == 2 else 0)\n",
            "<ipython-input-14-0da16a9c6b6c>:8: SettingWithCopyWarning: \n",
            "A value is trying to be set on a copy of a slice from a DataFrame.\n",
            "Try using .loc[row_indexer,col_indexer] = value instead\n",
            "\n",
            "See the caveats in the documentation: https://pandas.pydata.org/pandas-docs/stable/user_guide/indexing.html#returning-a-view-versus-a-copy\n",
            "  df['isThree'] = df['batsman_runs'].apply(lambda x: 1 if x == 3 else 0)\n",
            "<ipython-input-14-0da16a9c6b6c>:9: SettingWithCopyWarning: \n",
            "A value is trying to be set on a copy of a slice from a DataFrame.\n",
            "Try using .loc[row_indexer,col_indexer] = value instead\n",
            "\n",
            "See the caveats in the documentation: https://pandas.pydata.org/pandas-docs/stable/user_guide/indexing.html#returning-a-view-versus-a-copy\n",
            "  df['isFour'] = df['batsman_runs'].apply(lambda x: 1 if x == 4 else 0)\n",
            "<ipython-input-14-0da16a9c6b6c>:10: SettingWithCopyWarning: \n",
            "A value is trying to be set on a copy of a slice from a DataFrame.\n",
            "Try using .loc[row_indexer,col_indexer] = value instead\n",
            "\n",
            "See the caveats in the documentation: https://pandas.pydata.org/pandas-docs/stable/user_guide/indexing.html#returning-a-view-versus-a-copy\n",
            "  df['isSix'] = df['batsman_runs'].apply(lambda x: 1 if x == 6 else 0)\n",
            "<ipython-input-14-0da16a9c6b6c>:5: SettingWithCopyWarning: \n",
            "A value is trying to be set on a copy of a slice from a DataFrame.\n",
            "Try using .loc[row_indexer,col_indexer] = value instead\n",
            "\n",
            "See the caveats in the documentation: https://pandas.pydata.org/pandas-docs/stable/user_guide/indexing.html#returning-a-view-versus-a-copy\n",
            "  df['isDot'] = df['batsman_runs'].apply(lambda x: 1 if x == 0 else 0)\n",
            "<ipython-input-14-0da16a9c6b6c>:6: SettingWithCopyWarning: \n",
            "A value is trying to be set on a copy of a slice from a DataFrame.\n",
            "Try using .loc[row_indexer,col_indexer] = value instead\n",
            "\n",
            "See the caveats in the documentation: https://pandas.pydata.org/pandas-docs/stable/user_guide/indexing.html#returning-a-view-versus-a-copy\n",
            "  df['isOne'] = df['batsman_runs'].apply(lambda x: 1 if x == 1 else 0)\n",
            "<ipython-input-14-0da16a9c6b6c>:7: SettingWithCopyWarning: \n",
            "A value is trying to be set on a copy of a slice from a DataFrame.\n",
            "Try using .loc[row_indexer,col_indexer] = value instead\n",
            "\n",
            "See the caveats in the documentation: https://pandas.pydata.org/pandas-docs/stable/user_guide/indexing.html#returning-a-view-versus-a-copy\n",
            "  df['isTwo'] = df['batsman_runs'].apply(lambda x: 1 if x == 2 else 0)\n",
            "<ipython-input-14-0da16a9c6b6c>:8: SettingWithCopyWarning: \n",
            "A value is trying to be set on a copy of a slice from a DataFrame.\n",
            "Try using .loc[row_indexer,col_indexer] = value instead\n",
            "\n",
            "See the caveats in the documentation: https://pandas.pydata.org/pandas-docs/stable/user_guide/indexing.html#returning-a-view-versus-a-copy\n",
            "  df['isThree'] = df['batsman_runs'].apply(lambda x: 1 if x == 3 else 0)\n",
            "<ipython-input-14-0da16a9c6b6c>:9: SettingWithCopyWarning: \n",
            "A value is trying to be set on a copy of a slice from a DataFrame.\n",
            "Try using .loc[row_indexer,col_indexer] = value instead\n",
            "\n",
            "See the caveats in the documentation: https://pandas.pydata.org/pandas-docs/stable/user_guide/indexing.html#returning-a-view-versus-a-copy\n",
            "  df['isFour'] = df['batsman_runs'].apply(lambda x: 1 if x == 4 else 0)\n",
            "<ipython-input-14-0da16a9c6b6c>:10: SettingWithCopyWarning: \n",
            "A value is trying to be set on a copy of a slice from a DataFrame.\n",
            "Try using .loc[row_indexer,col_indexer] = value instead\n",
            "\n",
            "See the caveats in the documentation: https://pandas.pydata.org/pandas-docs/stable/user_guide/indexing.html#returning-a-view-versus-a-copy\n",
            "  df['isSix'] = df['batsman_runs'].apply(lambda x: 1 if x == 6 else 0)\n"
          ]
        }
      ]
    },
    {
      "cell_type": "markdown",
      "source": [
        "#Some stats of Powerplay"
      ],
      "metadata": {
        "id": "dYWXJJ3TUSA9"
      }
    },
    {
      "cell_type": "code",
      "source": [
        "pp_stats.groupby('batsman')['runs'].sum().sort_values(ascending=False).head(10)"
      ],
      "metadata": {
        "colab": {
          "base_uri": "https://localhost:8080/"
        },
        "id": "emKuegvKwlwd",
        "outputId": "4e5687a8-5a7d-4ec3-d2b9-cead1efeb4a1"
      },
      "execution_count": 16,
      "outputs": [
        {
          "output_type": "execute_result",
          "data": {
            "text/plain": [
              "batsman\n",
              "S Dhawan      3157\n",
              "DA Warner     2894\n",
              "CH Gayle      2405\n",
              "G Gambhir     2277\n",
              "V Kohli       2135\n",
              "AM Rahane     2049\n",
              "RV Uthappa    2037\n",
              "PA Patel      1904\n",
              "RG Sharma     1634\n",
              "Q de Kock     1634\n",
              "Name: runs, dtype: int64"
            ]
          },
          "metadata": {},
          "execution_count": 16
        }
      ]
    },
    {
      "cell_type": "code",
      "source": [
        "pp_stats.groupby('batsman')['runs'].sum().sort_values(ascending=False).head(10).plot(kind='barh')\n",
        "plt.xlabel('Total Runs')\n",
        "plt.ylabel('Player Name')\n",
        "plt.title('Top 10 Batters in Powerplay')\n",
        "plt.plot()"
      ],
      "metadata": {
        "colab": {
          "base_uri": "https://localhost:8080/",
          "height": 489
        },
        "id": "WFdonOWySCXg",
        "outputId": "ddc62a29-6231-4233-bccc-fa46b431455a"
      },
      "execution_count": 17,
      "outputs": [
        {
          "output_type": "execute_result",
          "data": {
            "text/plain": [
              "[]"
            ]
          },
          "metadata": {},
          "execution_count": 17
        },
        {
          "output_type": "display_data",
          "data": {
            "text/plain": [
              "<Figure size 640x480 with 1 Axes>"
            ],
            "image/png": "[encoded data removed]"
          },
          "metadata": {}
        }
      ]
    },
    {
      "cell_type": "code",
      "source": [
        "pp_stats.groupby('batsman')['fours'].sum().sort_values(ascending=False).head(10)"
      ],
      "metadata": {
        "colab": {
          "base_uri": "https://localhost:8080/"
        },
        "id": "uXR4ZbBMS3r-",
        "outputId": "1de6be17-2e80-4462-bb87-c0ab79c779fd"
      },
      "execution_count": 18,
      "outputs": [
        {
          "output_type": "execute_result",
          "data": {
            "text/plain": [
              "batsman\n",
              "S Dhawan      415\n",
              "DA Warner     370\n",
              "G Gambhir     310\n",
              "PA Patel      283\n",
              "AM Rahane     273\n",
              "V Kohli       271\n",
              "CH Gayle      267\n",
              "RV Uthappa    261\n",
              "V Sehwag      230\n",
              "SK Raina      198\n",
              "Name: fours, dtype: int64"
            ]
          },
          "metadata": {},
          "execution_count": 18
        }
      ]
    },
    {
      "cell_type": "code",
      "source": [
        "pp_stats.groupby('batsman')['sixes'].sum().sort_values(ascending=False).head(10)"
      ],
      "metadata": {
        "colab": {
          "base_uri": "https://localhost:8080/"
        },
        "id": "FVynru0RU6Y-",
        "outputId": "e6964639-665b-44e4-cc4c-98a097585014"
      },
      "execution_count": 19,
      "outputs": [
        {
          "output_type": "execute_result",
          "data": {
            "text/plain": [
              "batsman\n",
              "CH Gayle       145\n",
              "DA Warner       89\n",
              "S Dhawan        71\n",
              "BB McCullum     70\n",
              "Q de Kock       65\n",
              "RG Sharma       63\n",
              "KL Rahul        62\n",
              "SK Raina        55\n",
              "JC Buttler      55\n",
              "SR Watson       54\n",
              "Name: sixes, dtype: int64"
            ]
          },
          "metadata": {},
          "execution_count": 19
        }
      ]
    },
    {
      "cell_type": "code",
      "source": [
        "pp_stats.groupby('batsman')['dots'].sum().sort_values(ascending=False).head(10)"
      ],
      "metadata": {
        "colab": {
          "base_uri": "https://localhost:8080/"
        },
        "id": "KzKPbxOZVIVC",
        "outputId": "2d51f9b7-3cca-4e54-cb5b-337afc9cd5a7"
      },
      "execution_count": 20,
      "outputs": [
        {
          "output_type": "execute_result",
          "data": {
            "text/plain": [
              "batsman\n",
              "S Dhawan      1225\n",
              "DA Warner     1023\n",
              "CH Gayle      1017\n",
              "G Gambhir      893\n",
              "AM Rahane      890\n",
              "V Kohli        878\n",
              "PA Patel       818\n",
              "RV Uthappa     806\n",
              "RG Sharma      739\n",
              "M Vijay        717\n",
              "Name: dots, dtype: int64"
            ]
          },
          "metadata": {},
          "execution_count": 20
        }
      ]
    },
    {
      "cell_type": "code",
      "source": [
        "pp_stats.groupby('batsman')['ones'].sum().sort_values(ascending=False).head(10)"
      ],
      "metadata": {
        "colab": {
          "base_uri": "https://localhost:8080/"
        },
        "id": "zLYk4db9opaZ",
        "outputId": "9213c48d-28c2-4a58-b450-abf41fc082f9"
      },
      "execution_count": 21,
      "outputs": [
        {
          "output_type": "execute_result",
          "data": {
            "text/plain": [
              "batsman\n",
              "S Dhawan      840\n",
              "V Kohli       595\n",
              "G Gambhir     593\n",
              "DA Warner     570\n",
              "AM Rahane     550\n",
              "RV Uthappa    488\n",
              "PA Patel      418\n",
              "KL Rahul      407\n",
              "CH Gayle      379\n",
              "RG Sharma     378\n",
              "Name: ones, dtype: int64"
            ]
          },
          "metadata": {},
          "execution_count": 21
        }
      ]
    },
    {
      "cell_type": "code",
      "source": [
        "pp_stats.groupby('batsman')['twos'].sum().sort_values(ascending=False).head(10)"
      ],
      "metadata": {
        "colab": {
          "base_uri": "https://localhost:8080/"
        },
        "id": "Lj_9SY5TopCm",
        "outputId": "03f2f880-4e6d-4624-ed3c-503a9b9e745d"
      },
      "execution_count": 22,
      "outputs": [
        {
          "output_type": "execute_result",
          "data": {
            "text/plain": [
              "batsman\n",
              "DA Warner     124\n",
              "G Gambhir     105\n",
              "S Dhawan       88\n",
              "M Vijay        87\n",
              "V Kohli        84\n",
              "RV Uthappa     77\n",
              "AM Rahane      76\n",
              "PA Patel       74\n",
              "KL Rahul       62\n",
              "Q de Kock      59\n",
              "Name: twos, dtype: int64"
            ]
          },
          "metadata": {},
          "execution_count": 22
        }
      ]
    },
    {
      "cell_type": "markdown",
      "source": [
        "#Some Stats of Middle Overs"
      ],
      "metadata": {
        "id": "tfuznVJFo2cU"
      }
    },
    {
      "cell_type": "code",
      "source": [
        "mo_stats.groupby('batsman')['runs'].sum().sort_values(ascending=False).head(10)"
      ],
      "metadata": {
        "colab": {
          "base_uri": "https://localhost:8080/"
        },
        "id": "oRK9boy1wnl3",
        "outputId": "c8594fde-c2ee-4c70-dc22-3b7cbd97359e"
      },
      "execution_count": 23,
      "outputs": [
        {
          "output_type": "execute_result",
          "data": {
            "text/plain": [
              "batsman\n",
              "V Kohli           3508\n",
              "SK Raina          3312\n",
              "RG Sharma         3102\n",
              "AB de Villiers    3019\n",
              "KD Karthik        2698\n",
              "S Dhawan          2650\n",
              "AT Rayudu         2602\n",
              "DA Warner         2590\n",
              "RV Uthappa        2502\n",
              "MS Dhoni          2389\n",
              "Name: runs, dtype: int64"
            ]
          },
          "metadata": {},
          "execution_count": 23
        }
      ]
    },
    {
      "cell_type": "code",
      "source": [
        "mo_stats.groupby('batsman')['runs'].sum().sort_values(ascending=False).head(10).plot(kind='bar')\n",
        "plt.xlabel('Player Name')\n",
        "plt.ylabel('Total Runs')\n",
        "plt.title('Top 10 Batters in Middle Overs')\n",
        "plt.plot()"
      ],
      "metadata": {
        "colab": {
          "base_uri": "https://localhost:8080/",
          "height": 566
        },
        "id": "C9cX7UFiVLOi",
        "outputId": "c37b2577-a0a7-437a-9fc4-5b3b87f999fb"
      },
      "execution_count": 24,
      "outputs": [
        {
          "output_type": "execute_result",
          "data": {
            "text/plain": [
              "[]"
            ]
          },
          "metadata": {},
          "execution_count": 24
        },
        {
          "output_type": "display_data",
          "data": {
            "text/plain": [
              "<Figure size 640x480 with 1 Axes>"
            ],
            "image/png": "[encoded data removed]"
          },
          "metadata": {}
        }
      ]
    },
    {
      "cell_type": "code",
      "source": [
        "mo_stats.groupby('batsman')['fours'].sum().sort_values(ascending=False).head(10)"
      ],
      "metadata": {
        "colab": {
          "base_uri": "https://localhost:8080/"
        },
        "id": "2N8Fy2uwnptI",
        "outputId": "84fc9ff8-c4f2-4e74-ad9c-ef7a83f452a3"
      },
      "execution_count": 25,
      "outputs": [
        {
          "output_type": "execute_result",
          "data": {
            "text/plain": [
              "batsman\n",
              "SK Raina          254\n",
              "KD Karthik        250\n",
              "S Dhawan          243\n",
              "RG Sharma         241\n",
              "V Kohli           240\n",
              "AB de Villiers    208\n",
              "AT Rayudu         192\n",
              "RV Uthappa        191\n",
              "SR Watson         182\n",
              "DA Warner         169\n",
              "Name: fours, dtype: int64"
            ]
          },
          "metadata": {},
          "execution_count": 25
        }
      ]
    },
    {
      "cell_type": "code",
      "source": [
        "mo_stats.groupby('batsman')['sixes'].sum().sort_values(ascending=False).head(10)"
      ],
      "metadata": {
        "colab": {
          "base_uri": "https://localhost:8080/"
        },
        "id": "c7v9T1vToPXS",
        "outputId": "4bb7505b-7713-4974-8668-423a848c6f96"
      },
      "execution_count": 26,
      "outputs": [
        {
          "output_type": "execute_result",
          "data": {
            "text/plain": [
              "batsman\n",
              "CH Gayle          179\n",
              "AB de Villiers    121\n",
              "SK Raina          119\n",
              "SR Watson         119\n",
              "V Kohli           112\n",
              "DA Warner         107\n",
              "YK Pathan         107\n",
              "RV Uthappa        105\n",
              "RG Sharma         100\n",
              "Yuvraj Singh       99\n",
              "Name: sixes, dtype: int64"
            ]
          },
          "metadata": {},
          "execution_count": 26
        }
      ]
    },
    {
      "cell_type": "code",
      "source": [
        "mo_stats.groupby('batsman')['dots'].sum().sort_values(ascending=False).head(10)"
      ],
      "metadata": {
        "colab": {
          "base_uri": "https://localhost:8080/"
        },
        "id": "jwu4oa9QoVY-",
        "outputId": "8dc33ef8-61dd-480f-ae83-5a19e5fe13a0"
      },
      "execution_count": 27,
      "outputs": [
        {
          "output_type": "execute_result",
          "data": {
            "text/plain": [
              "batsman\n",
              "MS Dhoni          904\n",
              "V Kohli           883\n",
              "RG Sharma         870\n",
              "SK Raina          779\n",
              "KD Karthik        776\n",
              "Yuvraj Singh      721\n",
              "RV Uthappa        709\n",
              "AT Rayudu         702\n",
              "S Dhawan          664\n",
              "AB de Villiers    639\n",
              "Name: dots, dtype: int64"
            ]
          },
          "metadata": {},
          "execution_count": 27
        }
      ]
    },
    {
      "cell_type": "code",
      "source": [
        "mo_stats.groupby('batsman')['ones'].sum().sort_values(ascending=False).head(10)"
      ],
      "metadata": {
        "colab": {
          "base_uri": "https://localhost:8080/"
        },
        "id": "QpuJjV34oZ3q",
        "outputId": "6b522c97-297d-400c-d3d6-8b7166a95e92"
      },
      "execution_count": 28,
      "outputs": [
        {
          "output_type": "execute_result",
          "data": {
            "text/plain": [
              "batsman\n",
              "V Kohli           1408\n",
              "RG Sharma         1242\n",
              "SK Raina          1242\n",
              "AB de Villiers    1058\n",
              "S Dhawan          1031\n",
              "AT Rayudu         1020\n",
              "MS Dhoni          1014\n",
              "KD Karthik         993\n",
              "DA Warner          873\n",
              "MK Pandey          868\n",
              "Name: ones, dtype: int64"
            ]
          },
          "metadata": {},
          "execution_count": 28
        }
      ]
    },
    {
      "cell_type": "code",
      "source": [
        "mo_stats.groupby('batsman')['twos'].sum().sort_values(ascending=False).head(10)"
      ],
      "metadata": {
        "colab": {
          "base_uri": "https://localhost:8080/"
        },
        "id": "kzeyfu6_odyP",
        "outputId": "9001e19d-413d-4e9b-9136-c56fd66185ab"
      },
      "execution_count": 29,
      "outputs": [
        {
          "output_type": "execute_result",
          "data": {
            "text/plain": [
              "batsman\n",
              "V Kohli           225\n",
              "DA Warner         195\n",
              "AB de Villiers    185\n",
              "KD Karthik        166\n",
              "SK Raina          164\n",
              "MS Dhoni          158\n",
              "S Dhawan          157\n",
              "RG Sharma         142\n",
              "AM Rahane         129\n",
              "G Gambhir         128\n",
              "Name: twos, dtype: int64"
            ]
          },
          "metadata": {},
          "execution_count": 29
        }
      ]
    },
    {
      "cell_type": "markdown",
      "source": [
        "#Some stats of Death Overs"
      ],
      "metadata": {
        "id": "8LygHVaVo-5V"
      }
    },
    {
      "cell_type": "code",
      "source": [
        "do_stats.groupby('batsman')['runs'].sum().sort_values(ascending=False).head(10)"
      ],
      "metadata": {
        "colab": {
          "base_uri": "https://localhost:8080/"
        },
        "id": "8jdPOsXUwrC9",
        "outputId": "a7dc6e89-28af-4661-eb80-5324009f2c9f"
      },
      "execution_count": 30,
      "outputs": [
        {
          "output_type": "execute_result",
          "data": {
            "text/plain": [
              "batsman\n",
              "MS Dhoni          2530\n",
              "KA Pollard        1708\n",
              "AB de Villiers    1421\n",
              "KD Karthik        1282\n",
              "RA Jadeja         1155\n",
              "RG Sharma         1145\n",
              "HH Pandya          998\n",
              "V Kohli            991\n",
              "YK Pathan          858\n",
              "AD Russell         854\n",
              "Name: runs, dtype: int64"
            ]
          },
          "metadata": {},
          "execution_count": 30
        }
      ]
    },
    {
      "cell_type": "code",
      "source": [
        "do_stats.groupby('batsman')['runs'].sum().sort_values(ascending=False).head(10).plot(kind='bar')\n",
        "plt.xlabel('Player Name')\n",
        "plt.ylabel('Total Runs')\n",
        "plt.title('Top 10 Batters in Death Overs')\n",
        "plt.plot()"
      ],
      "metadata": {
        "colab": {
          "base_uri": "https://localhost:8080/",
          "height": 566
        },
        "id": "e4Je36Seoip_",
        "outputId": "0a74f75c-86e6-4b52-fa48-3c5056e9f03e"
      },
      "execution_count": 31,
      "outputs": [
        {
          "output_type": "execute_result",
          "data": {
            "text/plain": [
              "[]"
            ]
          },
          "metadata": {},
          "execution_count": 31
        },
        {
          "output_type": "display_data",
          "data": {
            "text/plain": [
              "<Figure size 640x480 with 1 Axes>"
            ],
            "image/png": "[encoded data removed]"
          },
          "metadata": {}
        }
      ]
    },
    {
      "cell_type": "code",
      "source": [
        "do_stats.groupby('batsman')['fours'].sum().sort_values(ascending=False).head(10)"
      ],
      "metadata": {
        "colab": {
          "base_uri": "https://localhost:8080/"
        },
        "id": "43OpRzcMpYzX",
        "outputId": "5ea166a3-dd23-4b25-fb84-8aeed84a7c3a"
      },
      "execution_count": 32,
      "outputs": [
        {
          "output_type": "execute_result",
          "data": {
            "text/plain": [
              "batsman\n",
              "MS Dhoni          195\n",
              "KD Karthik        121\n",
              "KA Pollard        110\n",
              "AB de Villiers    106\n",
              "RG Sharma          90\n",
              "RA Jadeja          86\n",
              "YK Pathan          76\n",
              "HH Pandya          71\n",
              "V Kohli            70\n",
              "AT Rayudu          64\n",
              "Name: fours, dtype: int64"
            ]
          },
          "metadata": {},
          "execution_count": 32
        }
      ]
    },
    {
      "cell_type": "code",
      "source": [
        "do_stats.groupby('batsman')['sixes'].sum().sort_values(ascending=False).head(10)"
      ],
      "metadata": {
        "colab": {
          "base_uri": "https://localhost:8080/"
        },
        "id": "2WVeO4RRqbzr",
        "outputId": "01343cde-75a0-4bd7-daf9-b907ad4d8bc1"
      },
      "execution_count": 33,
      "outputs": [
        {
          "output_type": "execute_result",
          "data": {
            "text/plain": [
              "batsman\n",
              "MS Dhoni          152\n",
              "KA Pollard        127\n",
              "AB de Villiers    112\n",
              "RG Sharma          78\n",
              "AD Russell         77\n",
              "HH Pandya          72\n",
              "KD Karthik         69\n",
              "V Kohli            64\n",
              "RA Jadeja          55\n",
              "DA Miller          50\n",
              "Name: sixes, dtype: int64"
            ]
          },
          "metadata": {},
          "execution_count": 33
        }
      ]
    },
    {
      "cell_type": "code",
      "source": [
        "do_stats.groupby('batsman')['dots'].sum().sort_values(ascending=False).head(10)"
      ],
      "metadata": {
        "colab": {
          "base_uri": "https://localhost:8080/"
        },
        "id": "IKN5ZRXZqd9k",
        "outputId": "37100fd6-407f-42d2-851c-b6b2931fbbcc"
      },
      "execution_count": 34,
      "outputs": [
        {
          "output_type": "execute_result",
          "data": {
            "text/plain": [
              "batsman\n",
              "MS Dhoni           415\n",
              "KA Pollard         344\n",
              "RA Jadeja          219\n",
              "KD Karthik         215\n",
              "HH Pandya          191\n",
              "AD Russell         171\n",
              "RG Sharma          170\n",
              "AB de Villiers     157\n",
              "Harbhajan Singh    153\n",
              "YK Pathan          147\n",
              "Name: dots, dtype: int64"
            ]
          },
          "metadata": {},
          "execution_count": 34
        }
      ]
    },
    {
      "cell_type": "code",
      "source": [
        "def byInnings(df,current_innings):\n",
        "  df=df[df.inning == current_innings]\n",
        "  df.reset_index(inplace=True,drop=True)\n",
        "\n",
        "  df['isDot'] = df['batsman_runs'].apply(lambda x: 1 if x == 0 else 0)\n",
        "  df['isOne'] = df['batsman_runs'].apply(lambda x: 1 if x == 1 else 0)\n",
        "  df['isTwo'] = df['batsman_runs'].apply(lambda x: 1 if x == 2 else 0)\n",
        "  df['isThree'] = df['batsman_runs'].apply(lambda x: 1 if x == 3 else 0)\n",
        "  df['isFour'] = df['batsman_runs'].apply(lambda x: 1 if x == 4 else 0)\n",
        "  df['isSix'] = df['batsman_runs'].apply(lambda x: 1 if x == 6 else 0)\n",
        "  \n",
        "  runs = pd.DataFrame(df.groupby(['batsman'])['batsman_runs'].sum().reset_index()).rename(columns={'batsman_runs':'runs'})\n",
        "  innings = pd.DataFrame(df.groupby(['batsman'])['matchId'].apply(lambda x: len(list(np.unique(x)))).reset_index()).rename(columns = {'matchId':'innings'})\n",
        "  balls = pd.DataFrame(df.groupby(['batsman'])['matchId'].count()).reset_index().rename(columns = {'matchId':'balls'})\n",
        "  dismissals = pd.DataFrame(df.groupby(['batsman'])['player_dismissed'].count()).reset_index().rename(columns = {'player_dismissed':'dismissals'})\n",
        "  \n",
        "  dots = pd.DataFrame(df.groupby(['batsman'])['isDot'].sum()).reset_index().rename(columns = {'isDot':'dots'})\n",
        "  ones = pd.DataFrame(df.groupby(['batsman'])['isOne'].sum()).reset_index().rename(columns = {'isOne':'ones'})\n",
        "  twos = pd.DataFrame(df.groupby(['batsman'])['isTwo'].sum()).reset_index().rename(columns = {'isTwo':'twos'})\n",
        "  threes = pd.DataFrame(df.groupby(['batsman'])['isThree'].sum()).reset_index().rename(columns = {'isThree':'threes'})\n",
        "  fours = pd.DataFrame(df.groupby(['batsman'])['isFour'].sum()).reset_index().rename(columns = {'isFour':'fours'})\n",
        "  sixes = pd.DataFrame(df.groupby(['batsman'])['isSix'].sum()).reset_index().rename(columns = {'isSix':'sixes'})\n",
        "  \n",
        "  df = pd.merge(innings, runs, on = 'batsman').merge(balls, on = 'batsman').merge(dismissals, on = 'batsman').merge(dots, on = 'batsman').merge(ones, on = 'batsman').merge(twos, on = 'batsman').merge(threes, on = 'batsman').merge(fours, on = 'batsman').merge(sixes, on = 'batsman')\n",
        "  \n",
        "  #StrikeRate\n",
        "  df['SR'] = df.apply(lambda x: 100*(x['runs']/x['balls']), axis = 1)\n",
        "\n",
        "  #runs per innings\n",
        "  df['RPI'] = df.apply(lambda x: x['runs']/x['innings'], axis = 1)\n",
        "\n",
        "  #balls per dismissals\n",
        "  df['BPD'] = df.apply(lambda x: balls_per_dismissal(x['balls'], x['dismissals']), axis = 1)\n",
        "\n",
        "  #balls per boundary\n",
        "  df['BPB'] = df.apply(lambda x: balls_per_boundary(x['balls'], (x['fours'] + x['sixes'])), axis = 1)\n",
        "  \n",
        "  return df"
      ],
      "metadata": {
        "id": "29fvjfnqqjos"
      },
      "execution_count": 35,
      "outputs": []
    },
    {
      "cell_type": "code",
      "source": [
        "firstinn=byInnings(deliveries,1)\n",
        "secondinn=byInnings(deliveries,2)"
      ],
      "metadata": {
        "colab": {
          "base_uri": "https://localhost:8080/"
        },
        "id": "UK3k_dryrFOL",
        "outputId": "861dbb01-468f-4805-bd83-9f3fdc9e8e3b"
      },
      "execution_count": 36,
      "outputs": [
        {
          "output_type": "stream",
          "name": "stderr",
          "text": [
            "<ipython-input-35-5fc641501671>:5: SettingWithCopyWarning: \n",
            "A value is trying to be set on a copy of a slice from a DataFrame.\n",
            "Try using .loc[row_indexer,col_indexer] = value instead\n",
            "\n",
            "See the caveats in the documentation: https://pandas.pydata.org/pandas-docs/stable/user_guide/indexing.html#returning-a-view-versus-a-copy\n",
            "  df['isDot'] = df['batsman_runs'].apply(lambda x: 1 if x == 0 else 0)\n",
            "<ipython-input-35-5fc641501671>:6: SettingWithCopyWarning: \n",
            "A value is trying to be set on a copy of a slice from a DataFrame.\n",
            "Try using .loc[row_indexer,col_indexer] = value instead\n",
            "\n",
            "See the caveats in the documentation: https://pandas.pydata.org/pandas-docs/stable/user_guide/indexing.html#returning-a-view-versus-a-copy\n",
            "  df['isOne'] = df['batsman_runs'].apply(lambda x: 1 if x == 1 else 0)\n",
            "<ipython-input-35-5fc641501671>:7: SettingWithCopyWarning: \n",
            "A value is trying to be set on a copy of a slice from a DataFrame.\n",
            "Try using .loc[row_indexer,col_indexer] = value instead\n",
            "\n",
            "See the caveats in the documentation: https://pandas.pydata.org/pandas-docs/stable/user_guide/indexing.html#returning-a-view-versus-a-copy\n",
            "  df['isTwo'] = df['batsman_runs'].apply(lambda x: 1 if x == 2 else 0)\n",
            "<ipython-input-35-5fc641501671>:8: SettingWithCopyWarning: \n",
            "A value is trying to be set on a copy of a slice from a DataFrame.\n",
            "Try using .loc[row_indexer,col_indexer] = value instead\n",
            "\n",
            "See the caveats in the documentation: https://pandas.pydata.org/pandas-docs/stable/user_guide/indexing.html#returning-a-view-versus-a-copy\n",
            "  df['isThree'] = df['batsman_runs'].apply(lambda x: 1 if x == 3 else 0)\n",
            "<ipython-input-35-5fc641501671>:9: SettingWithCopyWarning: \n",
            "A value is trying to be set on a copy of a slice from a DataFrame.\n",
            "Try using .loc[row_indexer,col_indexer] = value instead\n",
            "\n",
            "See the caveats in the documentation: https://pandas.pydata.org/pandas-docs/stable/user_guide/indexing.html#returning-a-view-versus-a-copy\n",
            "  df['isFour'] = df['batsman_runs'].apply(lambda x: 1 if x == 4 else 0)\n",
            "<ipython-input-35-5fc641501671>:10: SettingWithCopyWarning: \n",
            "A value is trying to be set on a copy of a slice from a DataFrame.\n",
            "Try using .loc[row_indexer,col_indexer] = value instead\n",
            "\n",
            "See the caveats in the documentation: https://pandas.pydata.org/pandas-docs/stable/user_guide/indexing.html#returning-a-view-versus-a-copy\n",
            "  df['isSix'] = df['batsman_runs'].apply(lambda x: 1 if x == 6 else 0)\n",
            "<ipython-input-35-5fc641501671>:5: SettingWithCopyWarning: \n",
            "A value is trying to be set on a copy of a slice from a DataFrame.\n",
            "Try using .loc[row_indexer,col_indexer] = value instead\n",
            "\n",
            "See the caveats in the documentation: https://pandas.pydata.org/pandas-docs/stable/user_guide/indexing.html#returning-a-view-versus-a-copy\n",
            "  df['isDot'] = df['batsman_runs'].apply(lambda x: 1 if x == 0 else 0)\n",
            "<ipython-input-35-5fc641501671>:6: SettingWithCopyWarning: \n",
            "A value is trying to be set on a copy of a slice from a DataFrame.\n",
            "Try using .loc[row_indexer,col_indexer] = value instead\n",
            "\n",
            "See the caveats in the documentation: https://pandas.pydata.org/pandas-docs/stable/user_guide/indexing.html#returning-a-view-versus-a-copy\n",
            "  df['isOne'] = df['batsman_runs'].apply(lambda x: 1 if x == 1 else 0)\n",
            "<ipython-input-35-5fc641501671>:7: SettingWithCopyWarning: \n",
            "A value is trying to be set on a copy of a slice from a DataFrame.\n",
            "Try using .loc[row_indexer,col_indexer] = value instead\n",
            "\n",
            "See the caveats in the documentation: https://pandas.pydata.org/pandas-docs/stable/user_guide/indexing.html#returning-a-view-versus-a-copy\n",
            "  df['isTwo'] = df['batsman_runs'].apply(lambda x: 1 if x == 2 else 0)\n",
            "<ipython-input-35-5fc641501671>:8: SettingWithCopyWarning: \n",
            "A value is trying to be set on a copy of a slice from a DataFrame.\n",
            "Try using .loc[row_indexer,col_indexer] = value instead\n",
            "\n",
            "See the caveats in the documentation: https://pandas.pydata.org/pandas-docs/stable/user_guide/indexing.html#returning-a-view-versus-a-copy\n",
            "  df['isThree'] = df['batsman_runs'].apply(lambda x: 1 if x == 3 else 0)\n",
            "<ipython-input-35-5fc641501671>:9: SettingWithCopyWarning: \n",
            "A value is trying to be set on a copy of a slice from a DataFrame.\n",
            "Try using .loc[row_indexer,col_indexer] = value instead\n",
            "\n",
            "See the caveats in the documentation: https://pandas.pydata.org/pandas-docs/stable/user_guide/indexing.html#returning-a-view-versus-a-copy\n",
            "  df['isFour'] = df['batsman_runs'].apply(lambda x: 1 if x == 4 else 0)\n",
            "<ipython-input-35-5fc641501671>:10: SettingWithCopyWarning: \n",
            "A value is trying to be set on a copy of a slice from a DataFrame.\n",
            "Try using .loc[row_indexer,col_indexer] = value instead\n",
            "\n",
            "See the caveats in the documentation: https://pandas.pydata.org/pandas-docs/stable/user_guide/indexing.html#returning-a-view-versus-a-copy\n",
            "  df['isSix'] = df['batsman_runs'].apply(lambda x: 1 if x == 6 else 0)\n"
          ]
        }
      ]
    },
    {
      "cell_type": "code",
      "source": [
        "firstinn.head(5)"
      ],
      "metadata": {
        "colab": {
          "base_uri": "https://localhost:8080/",
          "height": 206
        },
        "id": "rE7goZHlrNNc",
        "outputId": "a6952a80-24f2-4605-93ae-27fc7720d805"
      },
      "execution_count": 37,
      "outputs": [
        {
          "output_type": "execute_result",
          "data": {
            "text/plain": [
              "          batsman  innings  runs  balls  dismissals  dots  ones  twos  threes  \\\n",
              "0  A Ashish Reddy       13   166    115           7    32    53    13       1   \n",
              "1        A Badoni        5   106     89           5    32    38     8       0   \n",
              "2      A Chandila        2     4      7           1     3     4     0       0   \n",
              "3        A Chopra        5    51     72           4    44    19     2       0   \n",
              "4     A Choudhary        1    15     12           0     1     9     1       0   \n",
              "\n",
              "   fours  sixes          SR        RPI        BPD        BPB  \n",
              "0      6     10  144.347826  12.769231  16.428571   7.187500  \n",
              "1      7      4  119.101124  21.200000  17.800000   8.090909  \n",
              "2      0      0   57.142857   2.000000   7.000000   7.000000  \n",
              "3      7      0   70.833333  10.200000  18.000000  10.285714  \n",
              "4      1      0  125.000000  15.000000  12.000000  12.000000  "
            ],
            "text/html": [
              "\n",
              "  <div id=\"df-48db9257-bed8-448d-ac02-eeaf2367d6bc\">\n",
              "    <div class=\"colab-df-container\">\n",
              "      <div>\n",
              "<style scoped>\n",
              "    .dataframe tbody tr th:only-of-type {\n",
              "        vertical-align: middle;\n",
              "    }\n",
              "\n",
              "    .dataframe tbody tr th {\n",
              "        vertical-align: top;\n",
              "    }\n",
              "\n",
              "    .dataframe thead th {\n",
              "        text-align: right;\n",
              "    }\n",
              "</style>\n",
              "<table border=\"1\" class=\"dataframe\">\n",
              "  <thead>\n",
              "    <tr style=\"text-align: right;\">\n",
              "      <th></th>\n",
              "      <th>batsman</th>\n",
              "      <th>innings</th>\n",
              "      <th>runs</th>\n",
              "      <th>balls</th>\n",
              "      <th>dismissals</th>\n",
              "      <th>dots</th>\n",
              "      <th>ones</th>\n",
              "      <th>twos</th>\n",
              "      <th>threes</th>\n",
              "      <th>fours</th>\n",
              "      <th>sixes</th>\n",
              "      <th>SR</th>\n",
              "      <th>RPI</th>\n",
              "      <th>BPD</th>\n",
              "      <th>BPB</th>\n",
              "    </tr>\n",
              "  </thead>\n",
              "  <tbody>\n",
              "    <tr>\n",
              "      <th>0</th>\n",
              "      <td>A Ashish Reddy</td>\n",
              "      <td>13</td>\n",
              "      <td>166</td>\n",
              "      <td>115</td>\n",
              "      <td>7</td>\n",
              "      <td>32</td>\n",
              "      <td>53</td>\n",
              "      <td>13</td>\n",
              "      <td>1</td>\n",
              "      <td>6</td>\n",
              "      <td>10</td>\n",
              "      <td>144.347826</td>\n",
              "      <td>12.769231</td>\n",
              "      <td>16.428571</td>\n",
              "      <td>7.187500</td>\n",
              "    </tr>\n",
              "    <tr>\n",
              "      <th>1</th>\n",
              "      <td>A Badoni</td>\n",
              "      <td>5</td>\n",
              "      <td>106</td>\n",
              "      <td>89</td>\n",
              "      <td>5</td>\n",
              "      <td>32</td>\n",
              "      <td>38</td>\n",
              "      <td>8</td>\n",
              "      <td>0</td>\n",
              "      <td>7</td>\n",
              "      <td>4</td>\n",
              "      <td>119.101124</td>\n",
              "      <td>21.200000</td>\n",
              "      <td>17.800000</td>\n",
              "      <td>8.090909</td>\n",
              "    </tr>\n",
              "    <tr>\n",
              "      <th>2</th>\n",
              "      <td>A Chandila</td>\n",
              "      <td>2</td>\n",
              "      <td>4</td>\n",
              "      <td>7</td>\n",
              "      <td>1</td>\n",
              "      <td>3</td>\n",
              "      <td>4</td>\n",
              "      <td>0</td>\n",
              "      <td>0</td>\n",
              "      <td>0</td>\n",
              "      <td>0</td>\n",
              "      <td>57.142857</td>\n",
              "      <td>2.000000</td>\n",
              "      <td>7.000000</td>\n",
              "      <td>7.000000</td>\n",
              "    </tr>\n",
              "    <tr>\n",
              "      <th>3</th>\n",
              "      <td>A Chopra</td>\n",
              "      <td>5</td>\n",
              "      <td>51</td>\n",
              "      <td>72</td>\n",
              "      <td>4</td>\n",
              "      <td>44</td>\n",
              "      <td>19</td>\n",
              "      <td>2</td>\n",
              "      <td>0</td>\n",
              "      <td>7</td>\n",
              "      <td>0</td>\n",
              "      <td>70.833333</td>\n",
              "      <td>10.200000</td>\n",
              "      <td>18.000000</td>\n",
              "      <td>10.285714</td>\n",
              "    </tr>\n",
              "    <tr>\n",
              "      <th>4</th>\n",
              "      <td>A Choudhary</td>\n",
              "      <td>1</td>\n",
              "      <td>15</td>\n",
              "      <td>12</td>\n",
              "      <td>0</td>\n",
              "      <td>1</td>\n",
              "      <td>9</td>\n",
              "      <td>1</td>\n",
              "      <td>0</td>\n",
              "      <td>1</td>\n",
              "      <td>0</td>\n",
              "      <td>125.000000</td>\n",
              "      <td>15.000000</td>\n",
              "      <td>12.000000</td>\n",
              "      <td>12.000000</td>\n",
              "    </tr>\n",
              "  </tbody>\n",
              "</table>\n",
              "</div>\n",
              "      <button class=\"colab-df-convert\" onclick=\"convertToInteractive('df-48db9257-bed8-448d-ac02-eeaf2367d6bc')\"\n",
              "              title=\"Convert this dataframe to an interactive table.\"\n",
              "              style=\"display:none;\">\n",
              "        \n",
              "  <svg xmlns=\"http://www.w3.org/2000/svg\" height=\"24px\"viewBox=\"0 0 24 24\"\n",
              "       width=\"24px\">\n",
              "    <path d=\"M0 0h24v24H0V0z\" fill=\"none\"/>\n",
              "    <path d=\"M18.56 5.44l.94 2.06.94-2.06 2.06-.94-2.06-.94-.94-2.06-.94 2.06-2.06.94zm-11 1L8.5 8.5l.94-2.06 2.06-.94-2.06-.94L8.5 2.5l-.94 2.06-2.06.94zm10 10l.94 2.06.94-2.06 2.06-.94-2.06-.94-.94-2.06-.94 2.06-2.06.94z\"/><path d=\"M17.41 7.96l-1.37-1.37c-.4-.4-.92-.59-1.43-.59-.52 0-1.04.2-1.43.59L10.3 9.45l-7.72 7.72c-.78.78-.78 2.05 0 2.83L4 21.41c.39.39.9.59 1.41.59.51 0 1.02-.2 1.41-.59l7.78-7.78 2.81-2.81c.8-.78.8-2.07 0-2.86zM5.41 20L4 18.59l7.72-7.72 1.47 1.35L5.41 20z\"/>\n",
              "  </svg>\n",
              "      </button>\n",
              "      \n",
              "  <style>\n",
              "    .colab-df-container {\n",
              "      display:flex;\n",
              "      flex-wrap:wrap;\n",
              "      gap: 12px;\n",
              "    }\n",
              "\n",
              "    .colab-df-convert {\n",
              "      background-color: #E8F0FE;\n",
              "      border: none;\n",
              "      border-radius: 50%;\n",
              "      cursor: pointer;\n",
              "      display: none;\n",
              "      fill: #1967D2;\n",
              "      height: 32px;\n",
              "      padding: 0 0 0 0;\n",
              "      width: 32px;\n",
              "    }\n",
              "\n",
              "    .colab-df-convert:hover {\n",
              "      background-color: #E2EBFA;\n",
              "      box-shadow: 0px 1px 2px rgba(60, 64, 67, 0.3), 0px 1px 3px 1px rgba(60, 64, 67, 0.15);\n",
              "      fill: #174EA6;\n",
              "    }\n",
              "\n",
              "    [theme=dark] .colab-df-convert {\n",
              "      background-color: #3B4455;\n",
              "      fill: #D2E3FC;\n",
              "    }\n",
              "\n",
              "    [theme=dark] .colab-df-convert:hover {\n",
              "      background-color: #434B5C;\n",
              "      box-shadow: 0px 1px 3px 1px rgba(0, 0, 0, 0.15);\n",
              "      filter: drop-shadow(0px 1px 2px rgba(0, 0, 0, 0.3));\n",
              "      fill: #FFFFFF;\n",
              "    }\n",
              "  </style>\n",
              "\n",
              "      <script>\n",
              "        const buttonEl =\n",
              "          document.querySelector('#df-48db9257-bed8-448d-ac02-eeaf2367d6bc button.colab-df-convert');\n",
              "        buttonEl.style.display =\n",
              "          google.colab.kernel.accessAllowed ? 'block' : 'none';\n",
              "\n",
              "        async function convertToInteractive(key) {\n",
              "          const element = document.querySelector('#df-48db9257-bed8-448d-ac02-eeaf2367d6bc');\n",
              "          const dataTable =\n",
              "            await google.colab.kernel.invokeFunction('convertToInteractive',\n",
              "                                                     [key], {});\n",
              "          if (!dataTable) return;\n",
              "\n",
              "          const docLinkHtml = 'Like what you see? Visit the ' +\n",
              "            '<a target=\"_blank\" href=https://colab.research.google.com/notebooks/data_table.ipynb>data table notebook</a>'\n",
              "            + ' to learn more about interactive tables.';\n",
              "          element.innerHTML = '';\n",
              "          dataTable['output_type'] = 'display_data';\n",
              "          await google.colab.output.renderOutput(dataTable, element);\n",
              "          const docLink = document.createElement('div');\n",
              "          docLink.innerHTML = docLinkHtml;\n",
              "          element.appendChild(docLink);\n",
              "        }\n",
              "      </script>\n",
              "    </div>\n",
              "  </div>\n",
              "  "
            ]
          },
          "metadata": {},
          "execution_count": 37
        }
      ]
    },
    {
      "cell_type": "code",
      "source": [
        "secondinn.head(5)"
      ],
      "metadata": {
        "colab": {
          "base_uri": "https://localhost:8080/",
          "height": 206
        },
        "id": "nEFtpy7QrQTb",
        "outputId": "25c56c53-6234-4348-b72c-779513203375"
      },
      "execution_count": 38,
      "outputs": [
        {
          "output_type": "execute_result",
          "data": {
            "text/plain": [
              "          batsman  innings  runs  balls  dismissals  dots  ones  twos  threes  \\\n",
              "0  A Ashish Reddy       10   114     81           8    29    30     7       0   \n",
              "1        A Badoni        6    55     50           4    25    15     3       0   \n",
              "2        A Chopra        1     2      3           1     1     2     0       0   \n",
              "3     A Choudhary        2    10      8           2     3     4     0       0   \n",
              "4      A Flintoff        2    40     43           2    21    15     2       1   \n",
              "\n",
              "   fours  sixes          SR        RPI     BPD        BPB  \n",
              "0     10      5  140.740741  11.400000  10.125   5.400000  \n",
              "1      4      3  110.000000   9.166667  12.500   7.142857  \n",
              "2      0      0   66.666667   2.000000   3.000   3.000000  \n",
              "3      0      1  125.000000   5.000000   4.000   8.000000  \n",
              "4      3      1   93.023256  20.000000  21.500  10.750000  "
            ],
            "text/html": [
              "\n",
              "  <div id=\"df-221b491c-41c2-4d6f-a9a7-51ca5107abe0\">\n",
              "    <div class=\"colab-df-container\">\n",
              "      <div>\n",
              "<style scoped>\n",
              "    .dataframe tbody tr th:only-of-type {\n",
              "        vertical-align: middle;\n",
              "    }\n",
              "\n",
              "    .dataframe tbody tr th {\n",
              "        vertical-align: top;\n",
              "    }\n",
              "\n",
              "    .dataframe thead th {\n",
              "        text-align: right;\n",
              "    }\n",
              "</style>\n",
              "<table border=\"1\" class=\"dataframe\">\n",
              "  <thead>\n",
              "    <tr style=\"text-align: right;\">\n",
              "      <th></th>\n",
              "      <th>batsman</th>\n",
              "      <th>innings</th>\n",
              "      <th>runs</th>\n",
              "      <th>balls</th>\n",
              "      <th>dismissals</th>\n",
              "      <th>dots</th>\n",
              "      <th>ones</th>\n",
              "      <th>twos</th>\n",
              "      <th>threes</th>\n",
              "      <th>fours</th>\n",
              "      <th>sixes</th>\n",
              "      <th>SR</th>\n",
              "      <th>RPI</th>\n",
              "      <th>BPD</th>\n",
              "      <th>BPB</th>\n",
              "    </tr>\n",
              "  </thead>\n",
              "  <tbody>\n",
              "    <tr>\n",
              "      <th>0</th>\n",
              "      <td>A Ashish Reddy</td>\n",
              "      <td>10</td>\n",
              "      <td>114</td>\n",
              "      <td>81</td>\n",
              "      <td>8</td>\n",
              "      <td>29</td>\n",
              "      <td>30</td>\n",
              "      <td>7</td>\n",
              "      <td>0</td>\n",
              "      <td>10</td>\n",
              "      <td>5</td>\n",
              "      <td>140.740741</td>\n",
              "      <td>11.400000</td>\n",
              "      <td>10.125</td>\n",
              "      <td>5.400000</td>\n",
              "    </tr>\n",
              "    <tr>\n",
              "      <th>1</th>\n",
              "      <td>A Badoni</td>\n",
              "      <td>6</td>\n",
              "      <td>55</td>\n",
              "      <td>50</td>\n",
              "      <td>4</td>\n",
              "      <td>25</td>\n",
              "      <td>15</td>\n",
              "      <td>3</td>\n",
              "      <td>0</td>\n",
              "      <td>4</td>\n",
              "      <td>3</td>\n",
              "      <td>110.000000</td>\n",
              "      <td>9.166667</td>\n",
              "      <td>12.500</td>\n",
              "      <td>7.142857</td>\n",
              "    </tr>\n",
              "    <tr>\n",
              "      <th>2</th>\n",
              "      <td>A Chopra</td>\n",
              "      <td>1</td>\n",
              "      <td>2</td>\n",
              "      <td>3</td>\n",
              "      <td>1</td>\n",
              "      <td>1</td>\n",
              "      <td>2</td>\n",
              "      <td>0</td>\n",
              "      <td>0</td>\n",
              "      <td>0</td>\n",
              "      <td>0</td>\n",
              "      <td>66.666667</td>\n",
              "      <td>2.000000</td>\n",
              "      <td>3.000</td>\n",
              "      <td>3.000000</td>\n",
              "    </tr>\n",
              "    <tr>\n",
              "      <th>3</th>\n",
              "      <td>A Choudhary</td>\n",
              "      <td>2</td>\n",
              "      <td>10</td>\n",
              "      <td>8</td>\n",
              "      <td>2</td>\n",
              "      <td>3</td>\n",
              "      <td>4</td>\n",
              "      <td>0</td>\n",
              "      <td>0</td>\n",
              "      <td>0</td>\n",
              "      <td>1</td>\n",
              "      <td>125.000000</td>\n",
              "      <td>5.000000</td>\n",
              "      <td>4.000</td>\n",
              "      <td>8.000000</td>\n",
              "    </tr>\n",
              "    <tr>\n",
              "      <th>4</th>\n",
              "      <td>A Flintoff</td>\n",
              "      <td>2</td>\n",
              "      <td>40</td>\n",
              "      <td>43</td>\n",
              "      <td>2</td>\n",
              "      <td>21</td>\n",
              "      <td>15</td>\n",
              "      <td>2</td>\n",
              "      <td>1</td>\n",
              "      <td>3</td>\n",
              "      <td>1</td>\n",
              "      <td>93.023256</td>\n",
              "      <td>20.000000</td>\n",
              "      <td>21.500</td>\n",
              "      <td>10.750000</td>\n",
              "    </tr>\n",
              "  </tbody>\n",
              "</table>\n",
              "</div>\n",
              "      <button class=\"colab-df-convert\" onclick=\"convertToInteractive('df-221b491c-41c2-4d6f-a9a7-51ca5107abe0')\"\n",
              "              title=\"Convert this dataframe to an interactive table.\"\n",
              "              style=\"display:none;\">\n",
              "        \n",
              "  <svg xmlns=\"http://www.w3.org/2000/svg\" height=\"24px\"viewBox=\"0 0 24 24\"\n",
              "       width=\"24px\">\n",
              "    <path d=\"M0 0h24v24H0V0z\" fill=\"none\"/>\n",
              "    <path d=\"M18.56 5.44l.94 2.06.94-2.06 2.06-.94-2.06-.94-.94-2.06-.94 2.06-2.06.94zm-11 1L8.5 8.5l.94-2.06 2.06-.94-2.06-.94L8.5 2.5l-.94 2.06-2.06.94zm10 10l.94 2.06.94-2.06 2.06-.94-2.06-.94-.94-2.06-.94 2.06-2.06.94z\"/><path d=\"M17.41 7.96l-1.37-1.37c-.4-.4-.92-.59-1.43-.59-.52 0-1.04.2-1.43.59L10.3 9.45l-7.72 7.72c-.78.78-.78 2.05 0 2.83L4 21.41c.39.39.9.59 1.41.59.51 0 1.02-.2 1.41-.59l7.78-7.78 2.81-2.81c.8-.78.8-2.07 0-2.86zM5.41 20L4 18.59l7.72-7.72 1.47 1.35L5.41 20z\"/>\n",
              "  </svg>\n",
              "      </button>\n",
              "      \n",
              "  <style>\n",
              "    .colab-df-container {\n",
              "      display:flex;\n",
              "      flex-wrap:wrap;\n",
              "      gap: 12px;\n",
              "    }\n",
              "\n",
              "    .colab-df-convert {\n",
              "      background-color: #E8F0FE;\n",
              "      border: none;\n",
              "      border-radius: 50%;\n",
              "      cursor: pointer;\n",
              "      display: none;\n",
              "      fill: #1967D2;\n",
              "      height: 32px;\n",
              "      padding: 0 0 0 0;\n",
              "      width: 32px;\n",
              "    }\n",
              "\n",
              "    .colab-df-convert:hover {\n",
              "      background-color: #E2EBFA;\n",
              "      box-shadow: 0px 1px 2px rgba(60, 64, 67, 0.3), 0px 1px 3px 1px rgba(60, 64, 67, 0.15);\n",
              "      fill: #174EA6;\n",
              "    }\n",
              "\n",
              "    [theme=dark] .colab-df-convert {\n",
              "      background-color: #3B4455;\n",
              "      fill: #D2E3FC;\n",
              "    }\n",
              "\n",
              "    [theme=dark] .colab-df-convert:hover {\n",
              "      background-color: #434B5C;\n",
              "      box-shadow: 0px 1px 3px 1px rgba(0, 0, 0, 0.15);\n",
              "      filter: drop-shadow(0px 1px 2px rgba(0, 0, 0, 0.3));\n",
              "      fill: #FFFFFF;\n",
              "    }\n",
              "  </style>\n",
              "\n",
              "      <script>\n",
              "        const buttonEl =\n",
              "          document.querySelector('#df-221b491c-41c2-4d6f-a9a7-51ca5107abe0 button.colab-df-convert');\n",
              "        buttonEl.style.display =\n",
              "          google.colab.kernel.accessAllowed ? 'block' : 'none';\n",
              "\n",
              "        async function convertToInteractive(key) {\n",
              "          const element = document.querySelector('#df-221b491c-41c2-4d6f-a9a7-51ca5107abe0');\n",
              "          const dataTable =\n",
              "            await google.colab.kernel.invokeFunction('convertToInteractive',\n",
              "                                                     [key], {});\n",
              "          if (!dataTable) return;\n",
              "\n",
              "          const docLinkHtml = 'Like what you see? Visit the ' +\n",
              "            '<a target=\"_blank\" href=https://colab.research.google.com/notebooks/data_table.ipynb>data table notebook</a>'\n",
              "            + ' to learn more about interactive tables.';\n",
              "          element.innerHTML = '';\n",
              "          dataTable['output_type'] = 'display_data';\n",
              "          await google.colab.output.renderOutput(dataTable, element);\n",
              "          const docLink = document.createElement('div');\n",
              "          docLink.innerHTML = docLinkHtml;\n",
              "          element.appendChild(docLink);\n",
              "        }\n",
              "      </script>\n",
              "    </div>\n",
              "  </div>\n",
              "  "
            ]
          },
          "metadata": {},
          "execution_count": 38
        }
      ]
    },
    {
      "cell_type": "markdown",
      "source": [
        "#Some Stats of 1st Innings\n"
      ],
      "metadata": {
        "id": "iRWnfHTfvTAs"
      }
    },
    {
      "cell_type": "code",
      "source": [
        "firstinn.groupby('batsman')['runs'].sum().sort_values(ascending=False).head(10)"
      ],
      "metadata": {
        "colab": {
          "base_uri": "https://localhost:8080/"
        },
        "id": "vylR302swwE-",
        "outputId": "9a07bc1c-cfa9-4dd7-d813-16c0c8395944"
      },
      "execution_count": 39,
      "outputs": [
        {
          "output_type": "execute_result",
          "data": {
            "text/plain": [
              "batsman\n",
              "V Kohli           3554\n",
              "S Dhawan          3537\n",
              "RG Sharma         3415\n",
              "SK Raina          3194\n",
              "AB de Villiers    3163\n",
              "DA Warner         3042\n",
              "MS Dhoni          2923\n",
              "CH Gayle          2873\n",
              "KD Karthik        2497\n",
              "RV Uthappa        2120\n",
              "Name: runs, dtype: int64"
            ]
          },
          "metadata": {},
          "execution_count": 39
        }
      ]
    },
    {
      "cell_type": "code",
      "source": [
        "firstinn.groupby('batsman')['runs'].sum().sort_values(ascending=False).head(10).plot(kind='bar')\n",
        "plt.xlabel('Player Name')\n",
        "plt.ylabel('Total Runs')\n",
        "plt.title('Most Runs in 1st Innings')\n",
        "plt.plot()"
      ],
      "metadata": {
        "colab": {
          "base_uri": "https://localhost:8080/",
          "height": 566
        },
        "id": "PvlgH6K0rfO5",
        "outputId": "3023cd6d-786a-4611-bef5-5e2e81a72006"
      },
      "execution_count": 40,
      "outputs": [
        {
          "output_type": "execute_result",
          "data": {
            "text/plain": [
              "[]"
            ]
          },
          "metadata": {},
          "execution_count": 40
        },
        {
          "output_type": "display_data",
          "data": {
            "text/plain": [
              "<Figure size 640x480 with 1 Axes>"
            ],
            "image/png": "[encoded data removed]"
          },
          "metadata": {}
        }
      ]
    },
    {
      "cell_type": "code",
      "source": [
        "firstinn.groupby('batsman')['fours'].sum().sort_values(ascending=False).head(10)"
      ],
      "metadata": {
        "colab": {
          "base_uri": "https://localhost:8080/"
        },
        "id": "erGrBoJJvrKv",
        "outputId": "8ad729ca-feca-45cb-a98f-6ea709eae61f"
      },
      "execution_count": 41,
      "outputs": [
        {
          "output_type": "execute_result",
          "data": {
            "text/plain": [
              "batsman\n",
              "S Dhawan          389\n",
              "RG Sharma         307\n",
              "V Kohli           291\n",
              "DA Warner         285\n",
              "SK Raina          277\n",
              "AB de Villiers    254\n",
              "CH Gayle          240\n",
              "KD Karthik        230\n",
              "AM Rahane         224\n",
              "MS Dhoni          211\n",
              "Name: fours, dtype: int64"
            ]
          },
          "metadata": {},
          "execution_count": 41
        }
      ]
    },
    {
      "cell_type": "code",
      "source": [
        "firstinn.groupby('batsman')['sixes'].sum().sort_values(ascending=False).head(10)"
      ],
      "metadata": {
        "colab": {
          "base_uri": "https://localhost:8080/"
        },
        "id": "HVd5kJUwwA3H",
        "outputId": "bce30f6c-a090-4fce-bc97-096a9c020a14"
      },
      "execution_count": 42,
      "outputs": [
        {
          "output_type": "execute_result",
          "data": {
            "text/plain": [
              "batsman\n",
              "CH Gayle          201\n",
              "AB de Villiers    159\n",
              "RG Sharma         145\n",
              "MS Dhoni          132\n",
              "V Kohli           122\n",
              "KA Pollard        119\n",
              "SK Raina          118\n",
              "DA Warner         114\n",
              "AD Russell         94\n",
              "KD Karthik         90\n",
              "Name: sixes, dtype: int64"
            ]
          },
          "metadata": {},
          "execution_count": 42
        }
      ]
    },
    {
      "cell_type": "code",
      "source": [
        "firstinn.groupby('batsman')['dots'].sum().sort_values(ascending=False).head(10)"
      ],
      "metadata": {
        "colab": {
          "base_uri": "https://localhost:8080/"
        },
        "id": "oUcjrRp4wD9f",
        "outputId": "042685e1-a84d-4c3c-fe74-bd885e381f5d"
      },
      "execution_count": 43,
      "outputs": [
        {
          "output_type": "execute_result",
          "data": {
            "text/plain": [
              "batsman\n",
              "S Dhawan      1096\n",
              "V Kohli       1002\n",
              "RG Sharma      956\n",
              "CH Gayle       870\n",
              "DA Warner      840\n",
              "SK Raina       837\n",
              "MS Dhoni       769\n",
              "RV Uthappa     710\n",
              "KD Karthik     693\n",
              "AM Rahane      660\n",
              "Name: dots, dtype: int64"
            ]
          },
          "metadata": {},
          "execution_count": 43
        }
      ]
    },
    {
      "cell_type": "code",
      "source": [
        "firstinn.groupby('batsman')['ones'].sum().sort_values(ascending=False).head(10)"
      ],
      "metadata": {
        "colab": {
          "base_uri": "https://localhost:8080/"
        },
        "id": "6SFuPQ65wGVe",
        "outputId": "425509bc-826b-40ea-b6fa-0f473eaa73a9"
      },
      "execution_count": 44,
      "outputs": [
        {
          "output_type": "execute_result",
          "data": {
            "text/plain": [
              "batsman\n",
              "V Kohli           1215\n",
              "S Dhawan          1153\n",
              "RG Sharma         1017\n",
              "SK Raina          1008\n",
              "MS Dhoni           856\n",
              "DA Warner          833\n",
              "AB de Villiers     825\n",
              "KD Karthik         737\n",
              "AT Rayudu          692\n",
              "AM Rahane          684\n",
              "Name: ones, dtype: int64"
            ]
          },
          "metadata": {},
          "execution_count": 44
        }
      ]
    },
    {
      "cell_type": "code",
      "source": [
        "firstinn.groupby('batsman')['twos'].sum().sort_values(ascending=False).head(10)"
      ],
      "metadata": {
        "colab": {
          "base_uri": "https://localhost:8080/"
        },
        "id": "nPodm77MwTb0",
        "outputId": "313983ae-f9bc-4a8b-c5b9-3d16a2ff2c74"
      },
      "execution_count": 45,
      "outputs": [
        {
          "output_type": "execute_result",
          "data": {
            "text/plain": [
              "batsman\n",
              "V Kohli           211\n",
              "MS Dhoni          202\n",
              "SK Raina          176\n",
              "DA Warner         169\n",
              "AB de Villiers    169\n",
              "S Dhawan          149\n",
              "RG Sharma         144\n",
              "KD Karthik        135\n",
              "AM Rahane         114\n",
              "MK Pandey         108\n",
              "Name: twos, dtype: int64"
            ]
          },
          "metadata": {},
          "execution_count": 45
        }
      ]
    },
    {
      "cell_type": "markdown",
      "source": [
        "#Some Stats of 2nd Innings"
      ],
      "metadata": {
        "id": "k6NSIf1JwXiK"
      }
    },
    {
      "cell_type": "code",
      "source": [
        "secondinn.groupby('batsman')['runs'].sum().sort_values(ascending=False).head(10)"
      ],
      "metadata": {
        "colab": {
          "base_uri": "https://localhost:8080/"
        },
        "id": "rcMBxMDFwy3O",
        "outputId": "a14caba7-70ee-44ac-d95e-58700e293c9a"
      },
      "execution_count": 46,
      "outputs": [
        {
          "output_type": "execute_result",
          "data": {
            "text/plain": [
              "batsman\n",
              "V Kohli       3070\n",
              "DA Warner     2839\n",
              "RV Uthappa    2832\n",
              "S Dhawan      2707\n",
              "RG Sharma     2464\n",
              "G Gambhir     2460\n",
              "SK Raina      2334\n",
              "SR Watson     2162\n",
              "AT Rayudu     2140\n",
              "CH Gayle      2092\n",
              "Name: runs, dtype: int64"
            ]
          },
          "metadata": {},
          "execution_count": 46
        }
      ]
    },
    {
      "cell_type": "code",
      "source": [
        "secondinn.groupby('batsman')['runs'].sum().sort_values(ascending=False).head(10).plot(kind='bar')\n",
        "plt.xlabel('Player Name')\n",
        "plt.ylabel('Total Runs')\n",
        "plt.title('Most Runs in 2nd Innings')\n",
        "plt.plot()"
      ],
      "metadata": {
        "colab": {
          "base_uri": "https://localhost:8080/",
          "height": 557
        },
        "id": "1oER7X38wVhI",
        "outputId": "d0159e3a-e006-491b-e54d-791dc8bfb5b2"
      },
      "execution_count": 47,
      "outputs": [
        {
          "output_type": "execute_result",
          "data": {
            "text/plain": [
              "[]"
            ]
          },
          "metadata": {},
          "execution_count": 47
        },
        {
          "output_type": "display_data",
          "data": {
            "text/plain": [
              "<Figure size 640x480 with 1 Axes>"
            ],
            "image/png": "[encoded data removed]"
          },
          "metadata": {}
        }
      ]
    },
    {
      "cell_type": "code",
      "source": [
        "secondinn.groupby('batsman')['fours'].sum().sort_values(ascending=False).head(10)"
      ],
      "metadata": {
        "colab": {
          "base_uri": "https://localhost:8080/"
        },
        "id": "ylXDtk8PweoH",
        "outputId": "8d44bc16-6de8-4b87-f7a1-d8771e95050d"
      },
      "execution_count": 48,
      "outputs": [
        {
          "output_type": "execute_result",
          "data": {
            "text/plain": [
              "batsman\n",
              "S Dhawan      312\n",
              "G Gambhir     296\n",
              "DA Warner     292\n",
              "V Kohli       288\n",
              "RV Uthappa    280\n",
              "SK Raina      229\n",
              "RG Sharma     212\n",
              "SR Watson     210\n",
              "AM Rahane     207\n",
              "PA Patel      197\n",
              "Name: fours, dtype: int64"
            ]
          },
          "metadata": {},
          "execution_count": 48
        }
      ]
    },
    {
      "cell_type": "code",
      "source": [
        "secondinn.groupby('batsman')['sixes'].sum().sort_values(ascending=False).head(10)"
      ],
      "metadata": {
        "colab": {
          "base_uri": "https://localhost:8080/"
        },
        "id": "P6kSN8HCw52d",
        "outputId": "902e5bc4-4310-4caf-8064-8bd80b5afd43"
      },
      "execution_count": 49,
      "outputs": [
        {
          "output_type": "execute_result",
          "data": {
            "text/plain": [
              "batsman\n",
              "CH Gayle          156\n",
              "SR Watson         110\n",
              "RV Uthappa        110\n",
              "YK Pathan         109\n",
              "KA Pollard        104\n",
              "DA Warner         102\n",
              "V Kohli            97\n",
              "MS Dhoni           97\n",
              "RG Sharma          96\n",
              "AB de Villiers     92\n",
              "Name: sixes, dtype: int64"
            ]
          },
          "metadata": {},
          "execution_count": 49
        }
      ]
    },
    {
      "cell_type": "code",
      "source": [
        "secondinn.groupby('batsman')['dots'].sum().sort_values(ascending=False).head(10)"
      ],
      "metadata": {
        "colab": {
          "base_uri": "https://localhost:8080/"
        },
        "id": "d82Q0L4yw8WJ",
        "outputId": "9f7c2f75-dc8d-4788-f290-fcb7b67a46de"
      },
      "execution_count": 50,
      "outputs": [
        {
          "output_type": "execute_result",
          "data": {
            "text/plain": [
              "batsman\n",
              "RV Uthappa    888\n",
              "V Kohli       884\n",
              "S Dhawan      862\n",
              "G Gambhir     831\n",
              "RG Sharma     822\n",
              "DA Warner     793\n",
              "CH Gayle      764\n",
              "AM Rahane     681\n",
              "AT Rayudu     677\n",
              "SR Watson     670\n",
              "Name: dots, dtype: int64"
            ]
          },
          "metadata": {},
          "execution_count": 50
        }
      ]
    },
    {
      "cell_type": "code",
      "source": [
        "secondinn.groupby('batsman')['ones'].sum().sort_values(ascending=False).head(10)"
      ],
      "metadata": {
        "colab": {
          "base_uri": "https://localhost:8080/"
        },
        "id": "YLbIOLRnw-QX",
        "outputId": "78e1bd28-f50c-42c6-c991-bec0217428fe"
      },
      "execution_count": 51,
      "outputs": [
        {
          "output_type": "execute_result",
          "data": {
            "text/plain": [
              "batsman\n",
              "V Kohli       966\n",
              "S Dhawan      828\n",
              "RG Sharma     818\n",
              "G Gambhir     809\n",
              "AT Rayudu     751\n",
              "RV Uthappa    750\n",
              "SK Raina      700\n",
              "AM Rahane     687\n",
              "DA Warner     680\n",
              "MK Pandey     680\n",
              "Name: ones, dtype: int64"
            ]
          },
          "metadata": {},
          "execution_count": 51
        }
      ]
    },
    {
      "cell_type": "code",
      "source": [
        "secondinn.groupby('batsman')['twos'].sum().sort_values(ascending=False).head(10)"
      ],
      "metadata": {
        "colab": {
          "base_uri": "https://localhost:8080/"
        },
        "id": "d0uAn8DQxA-Q",
        "outputId": "e743715b-f421-44c5-e643-672c1eba9ddd"
      },
      "execution_count": 52,
      "outputs": [
        {
          "output_type": "execute_result",
          "data": {
            "text/plain": [
              "batsman\n",
              "DA Warner     176\n",
              "V Kohli       167\n",
              "G Gambhir     148\n",
              "RV Uthappa    135\n",
              "MS Dhoni      131\n",
              "S Dhawan      130\n",
              "AM Rahane     113\n",
              "SV Samson     109\n",
              "KL Rahul      109\n",
              "KD Karthik    105\n",
              "Name: twos, dtype: int64"
            ]
          },
          "metadata": {},
          "execution_count": 52
        }
      ]
    },
    {
      "cell_type": "code",
      "source": [
        "comp=firstinn[['batsman','RPI']].merge(secondinn[['batsman','RPI']],on='batsman',how='inner').rename(columns={'RPI_x':'1st_RPI','RPI_y':'2nd_RPI'})\n",
        "comp.head(5)"
      ],
      "metadata": {
        "colab": {
          "base_uri": "https://localhost:8080/",
          "height": 206
        },
        "id": "41t6DerexC8O",
        "outputId": "fac49a16-d1df-49b8-8e74-16bf05e94458"
      },
      "execution_count": 53,
      "outputs": [
        {
          "output_type": "execute_result",
          "data": {
            "text/plain": [
              "          batsman    1st_RPI    2nd_RPI\n",
              "0  A Ashish Reddy  12.769231  11.400000\n",
              "1        A Badoni  21.200000   9.166667\n",
              "2        A Chopra  10.200000   2.000000\n",
              "3     A Choudhary  15.000000   5.000000\n",
              "4      A Flintoff  22.000000  20.000000"
            ],
            "text/html": [
              "\n",
              "  <div id=\"df-40bf3bf7-1117-4562-bfd1-8b4e540c63b1\">\n",
              "    <div class=\"colab-df-container\">\n",
              "      <div>\n",
              "<style scoped>\n",
              "    .dataframe tbody tr th:only-of-type {\n",
              "        vertical-align: middle;\n",
              "    }\n",
              "\n",
              "    .dataframe tbody tr th {\n",
              "        vertical-align: top;\n",
              "    }\n",
              "\n",
              "    .dataframe thead th {\n",
              "        text-align: right;\n",
              "    }\n",
              "</style>\n",
              "<table border=\"1\" class=\"dataframe\">\n",
              "  <thead>\n",
              "    <tr style=\"text-align: right;\">\n",
              "      <th></th>\n",
              "      <th>batsman</th>\n",
              "      <th>1st_RPI</th>\n",
              "      <th>2nd_RPI</th>\n",
              "    </tr>\n",
              "  </thead>\n",
              "  <tbody>\n",
              "    <tr>\n",
              "      <th>0</th>\n",
              "      <td>A Ashish Reddy</td>\n",
              "      <td>12.769231</td>\n",
              "      <td>11.400000</td>\n",
              "    </tr>\n",
              "    <tr>\n",
              "      <th>1</th>\n",
              "      <td>A Badoni</td>\n",
              "      <td>21.200000</td>\n",
              "      <td>9.166667</td>\n",
              "    </tr>\n",
              "    <tr>\n",
              "      <th>2</th>\n",
              "      <td>A Chopra</td>\n",
              "      <td>10.200000</td>\n",
              "      <td>2.000000</td>\n",
              "    </tr>\n",
              "    <tr>\n",
              "      <th>3</th>\n",
              "      <td>A Choudhary</td>\n",
              "      <td>15.000000</td>\n",
              "      <td>5.000000</td>\n",
              "    </tr>\n",
              "    <tr>\n",
              "      <th>4</th>\n",
              "      <td>A Flintoff</td>\n",
              "      <td>22.000000</td>\n",
              "      <td>20.000000</td>\n",
              "    </tr>\n",
              "  </tbody>\n",
              "</table>\n",
              "</div>\n",
              "      <button class=\"colab-df-convert\" onclick=\"convertToInteractive('df-40bf3bf7-1117-4562-bfd1-8b4e540c63b1')\"\n",
              "              title=\"Convert this dataframe to an interactive table.\"\n",
              "              style=\"display:none;\">\n",
              "        \n",
              "  <svg xmlns=\"http://www.w3.org/2000/svg\" height=\"24px\"viewBox=\"0 0 24 24\"\n",
              "       width=\"24px\">\n",
              "    <path d=\"M0 0h24v24H0V0z\" fill=\"none\"/>\n",
              "    <path d=\"M18.56 5.44l.94 2.06.94-2.06 2.06-.94-2.06-.94-.94-2.06-.94 2.06-2.06.94zm-11 1L8.5 8.5l.94-2.06 2.06-.94-2.06-.94L8.5 2.5l-.94 2.06-2.06.94zm10 10l.94 2.06.94-2.06 2.06-.94-2.06-.94-.94-2.06-.94 2.06-2.06.94z\"/><path d=\"M17.41 7.96l-1.37-1.37c-.4-.4-.92-.59-1.43-.59-.52 0-1.04.2-1.43.59L10.3 9.45l-7.72 7.72c-.78.78-.78 2.05 0 2.83L4 21.41c.39.39.9.59 1.41.59.51 0 1.02-.2 1.41-.59l7.78-7.78 2.81-2.81c.8-.78.8-2.07 0-2.86zM5.41 20L4 18.59l7.72-7.72 1.47 1.35L5.41 20z\"/>\n",
              "  </svg>\n",
              "      </button>\n",
              "      \n",
              "  <style>\n",
              "    .colab-df-container {\n",
              "      display:flex;\n",
              "      flex-wrap:wrap;\n",
              "      gap: 12px;\n",
              "    }\n",
              "\n",
              "    .colab-df-convert {\n",
              "      background-color: #E8F0FE;\n",
              "      border: none;\n",
              "      border-radius: 50%;\n",
              "      cursor: pointer;\n",
              "      display: none;\n",
              "      fill: #1967D2;\n",
              "      height: 32px;\n",
              "      padding: 0 0 0 0;\n",
              "      width: 32px;\n",
              "    }\n",
              "\n",
              "    .colab-df-convert:hover {\n",
              "      background-color: #E2EBFA;\n",
              "      box-shadow: 0px 1px 2px rgba(60, 64, 67, 0.3), 0px 1px 3px 1px rgba(60, 64, 67, 0.15);\n",
              "      fill: #174EA6;\n",
              "    }\n",
              "\n",
              "    [theme=dark] .colab-df-convert {\n",
              "      background-color: #3B4455;\n",
              "      fill: #D2E3FC;\n",
              "    }\n",
              "\n",
              "    [theme=dark] .colab-df-convert:hover {\n",
              "      background-color: #434B5C;\n",
              "      box-shadow: 0px 1px 3px 1px rgba(0, 0, 0, 0.15);\n",
              "      filter: drop-shadow(0px 1px 2px rgba(0, 0, 0, 0.3));\n",
              "      fill: #FFFFFF;\n",
              "    }\n",
              "  </style>\n",
              "\n",
              "      <script>\n",
              "        const buttonEl =\n",
              "          document.querySelector('#df-40bf3bf7-1117-4562-bfd1-8b4e540c63b1 button.colab-df-convert');\n",
              "        buttonEl.style.display =\n",
              "          google.colab.kernel.accessAllowed ? 'block' : 'none';\n",
              "\n",
              "        async function convertToInteractive(key) {\n",
              "          const element = document.querySelector('#df-40bf3bf7-1117-4562-bfd1-8b4e540c63b1');\n",
              "          const dataTable =\n",
              "            await google.colab.kernel.invokeFunction('convertToInteractive',\n",
              "                                                     [key], {});\n",
              "          if (!dataTable) return;\n",
              "\n",
              "          const docLinkHtml = 'Like what you see? Visit the ' +\n",
              "            '<a target=\"_blank\" href=https://colab.research.google.com/notebooks/data_table.ipynb>data table notebook</a>'\n",
              "            + ' to learn more about interactive tables.';\n",
              "          element.innerHTML = '';\n",
              "          dataTable['output_type'] = 'display_data';\n",
              "          await google.colab.output.renderOutput(dataTable, element);\n",
              "          const docLink = document.createElement('div');\n",
              "          docLink.innerHTML = docLinkHtml;\n",
              "          element.appendChild(docLink);\n",
              "        }\n",
              "      </script>\n",
              "    </div>\n",
              "  </div>\n",
              "  "
            ]
          },
          "metadata": {},
          "execution_count": 53
        }
      ]
    },
    {
      "cell_type": "code",
      "source": [
        "plt.figure(figsize=(12,6))\n",
        "plt.scatter(comp['1st_RPI'],comp['2nd_RPI'])\n",
        "plt.xlabel('1st Innings RPI')\n",
        "plt.xlabel('2nd Innings RPI')\n",
        "plt.title('RPI Comparison 1st Innings vs 2nd Innings')\n",
        "\n",
        "annotations=list(comp['batsman'])\n",
        "players=['CH Gayle','V Kohli','RG Sharma','KL Rahul','DA Warner','AB de Villiers','MS Dhoni']\n",
        "\n",
        "for i,label in enumerate(annotations):\n",
        "  if label in players:\n",
        "    plt.annotate(label,(comp['1st_RPI'][i],comp['2nd_RPI'][i]))\n",
        "plt.plot()"
      ],
      "metadata": {
        "colab": {
          "base_uri": "https://localhost:8080/",
          "height": 581
        },
        "id": "Yl3OSuPKxhZf",
        "outputId": "93783cf2-43a0-4b56-845c-b466d7737f7d"
      },
      "execution_count": 54,
      "outputs": [
        {
          "output_type": "execute_result",
          "data": {
            "text/plain": [
              "[]"
            ]
          },
          "metadata": {},
          "execution_count": 54
        },
        {
          "output_type": "display_data",
          "data": {
            "text/plain": [
              "<Figure size 1200x600 with 1 Axes>"
            ],
            "image/png": "[encoded data removed]"
          },
          "metadata": {}
        }
      ]
    },
    {
      "cell_type": "code",
      "source": [
        "comp1=firstinn[['batsman','BPD']].merge(secondinn[['batsman','BPD']],on='batsman',how='inner')\n",
        "comp1.head(5)"
      ],
      "metadata": {
        "colab": {
          "base_uri": "https://localhost:8080/",
          "height": 206
        },
        "id": "YdLEXII3x8oT",
        "outputId": "9671e9c0-9328-4709-e3b3-af2598dc664d"
      },
      "execution_count": 55,
      "outputs": [
        {
          "output_type": "execute_result",
          "data": {
            "text/plain": [
              "          batsman      BPD_x   BPD_y\n",
              "0  A Ashish Reddy  16.428571  10.125\n",
              "1        A Badoni  17.800000  12.500\n",
              "2        A Chopra  18.000000   3.000\n",
              "3     A Choudhary  12.000000   4.000\n",
              "4      A Flintoff  14.000000  21.500"
            ],
            "text/html": [
              "\n",
              "  <div id=\"df-dbc133a2-e269-410f-9def-8a21aca22b8a\">\n",
              "    <div class=\"colab-df-container\">\n",
              "      <div>\n",
              "<style scoped>\n",
              "    .dataframe tbody tr th:only-of-type {\n",
              "        vertical-align: middle;\n",
              "    }\n",
              "\n",
              "    .dataframe tbody tr th {\n",
              "        vertical-align: top;\n",
              "    }\n",
              "\n",
              "    .dataframe thead th {\n",
              "        text-align: right;\n",
              "    }\n",
              "</style>\n",
              "<table border=\"1\" class=\"dataframe\">\n",
              "  <thead>\n",
              "    <tr style=\"text-align: right;\">\n",
              "      <th></th>\n",
              "      <th>batsman</th>\n",
              "      <th>BPD_x</th>\n",
              "      <th>BPD_y</th>\n",
              "    </tr>\n",
              "  </thead>\n",
              "  <tbody>\n",
              "    <tr>\n",
              "      <th>0</th>\n",
              "      <td>A Ashish Reddy</td>\n",
              "      <td>16.428571</td>\n",
              "      <td>10.125</td>\n",
              "    </tr>\n",
              "    <tr>\n",
              "      <th>1</th>\n",
              "      <td>A Badoni</td>\n",
              "      <td>17.800000</td>\n",
              "      <td>12.500</td>\n",
              "    </tr>\n",
              "    <tr>\n",
              "      <th>2</th>\n",
              "      <td>A Chopra</td>\n",
              "      <td>18.000000</td>\n",
              "      <td>3.000</td>\n",
              "    </tr>\n",
              "    <tr>\n",
              "      <th>3</th>\n",
              "      <td>A Choudhary</td>\n",
              "      <td>12.000000</td>\n",
              "      <td>4.000</td>\n",
              "    </tr>\n",
              "    <tr>\n",
              "      <th>4</th>\n",
              "      <td>A Flintoff</td>\n",
              "      <td>14.000000</td>\n",
              "      <td>21.500</td>\n",
              "    </tr>\n",
              "  </tbody>\n",
              "</table>\n",
              "</div>\n",
              "      <button class=\"colab-df-convert\" onclick=\"convertToInteractive('df-dbc133a2-e269-410f-9def-8a21aca22b8a')\"\n",
              "              title=\"Convert this dataframe to an interactive table.\"\n",
              "              style=\"display:none;\">\n",
              "        \n",
              "  <svg xmlns=\"http://www.w3.org/2000/svg\" height=\"24px\"viewBox=\"0 0 24 24\"\n",
              "       width=\"24px\">\n",
              "    <path d=\"M0 0h24v24H0V0z\" fill=\"none\"/>\n",
              "    <path d=\"M18.56 5.44l.94 2.06.94-2.06 2.06-.94-2.06-.94-.94-2.06-.94 2.06-2.06.94zm-11 1L8.5 8.5l.94-2.06 2.06-.94-2.06-.94L8.5 2.5l-.94 2.06-2.06.94zm10 10l.94 2.06.94-2.06 2.06-.94-2.06-.94-.94-2.06-.94 2.06-2.06.94z\"/><path d=\"M17.41 7.96l-1.37-1.37c-.4-.4-.92-.59-1.43-.59-.52 0-1.04.2-1.43.59L10.3 9.45l-7.72 7.72c-.78.78-.78 2.05 0 2.83L4 21.41c.39.39.9.59 1.41.59.51 0 1.02-.2 1.41-.59l7.78-7.78 2.81-2.81c.8-.78.8-2.07 0-2.86zM5.41 20L4 18.59l7.72-7.72 1.47 1.35L5.41 20z\"/>\n",
              "  </svg>\n",
              "      </button>\n",
              "      \n",
              "  <style>\n",
              "    .colab-df-container {\n",
              "      display:flex;\n",
              "      flex-wrap:wrap;\n",
              "      gap: 12px;\n",
              "    }\n",
              "\n",
              "    .colab-df-convert {\n",
              "      background-color: #E8F0FE;\n",
              "      border: none;\n",
              "      border-radius: 50%;\n",
              "      cursor: pointer;\n",
              "      display: none;\n",
              "      fill: #1967D2;\n",
              "      height: 32px;\n",
              "      padding: 0 0 0 0;\n",
              "      width: 32px;\n",
              "    }\n",
              "\n",
              "    .colab-df-convert:hover {\n",
              "      background-color: #E2EBFA;\n",
              "      box-shadow: 0px 1px 2px rgba(60, 64, 67, 0.3), 0px 1px 3px 1px rgba(60, 64, 67, 0.15);\n",
              "      fill: #174EA6;\n",
              "    }\n",
              "\n",
              "    [theme=dark] .colab-df-convert {\n",
              "      background-color: #3B4455;\n",
              "      fill: #D2E3FC;\n",
              "    }\n",
              "\n",
              "    [theme=dark] .colab-df-convert:hover {\n",
              "      background-color: #434B5C;\n",
              "      box-shadow: 0px 1px 3px 1px rgba(0, 0, 0, 0.15);\n",
              "      filter: drop-shadow(0px 1px 2px rgba(0, 0, 0, 0.3));\n",
              "      fill: #FFFFFF;\n",
              "    }\n",
              "  </style>\n",
              "\n",
              "      <script>\n",
              "        const buttonEl =\n",
              "          document.querySelector('#df-dbc133a2-e269-410f-9def-8a21aca22b8a button.colab-df-convert');\n",
              "        buttonEl.style.display =\n",
              "          google.colab.kernel.accessAllowed ? 'block' : 'none';\n",
              "\n",
              "        async function convertToInteractive(key) {\n",
              "          const element = document.querySelector('#df-dbc133a2-e269-410f-9def-8a21aca22b8a');\n",
              "          const dataTable =\n",
              "            await google.colab.kernel.invokeFunction('convertToInteractive',\n",
              "                                                     [key], {});\n",
              "          if (!dataTable) return;\n",
              "\n",
              "          const docLinkHtml = 'Like what you see? Visit the ' +\n",
              "            '<a target=\"_blank\" href=https://colab.research.google.com/notebooks/data_table.ipynb>data table notebook</a>'\n",
              "            + ' to learn more about interactive tables.';\n",
              "          element.innerHTML = '';\n",
              "          dataTable['output_type'] = 'display_data';\n",
              "          await google.colab.output.renderOutput(dataTable, element);\n",
              "          const docLink = document.createElement('div');\n",
              "          docLink.innerHTML = docLinkHtml;\n",
              "          element.appendChild(docLink);\n",
              "        }\n",
              "      </script>\n",
              "    </div>\n",
              "  </div>\n",
              "  "
            ]
          },
          "metadata": {},
          "execution_count": 55
        }
      ]
    },
    {
      "cell_type": "code",
      "source": [
        "plt.figure(figsize=(15,6))\n",
        "plt.scatter(comp1['BPD_x'],comp1['BPD_y'])\n",
        "plt.xlabel('1st Innings BPD')\n",
        "plt.ylabel('2nd Innings BPD')\n",
        "plt.title('BPD Comparison 1st Innings vs 2nd Innings')\n",
        "\n",
        "annotations=list(comp1['batsman'])\n",
        "players=['CH Gayle','V Kohli','RG Sharma','KL Rahul','DA Warner','AB de Villiers','MS Dhoni']\n",
        "\n",
        "for i,label in enumerate(annotations):\n",
        "  if label in players:\n",
        "    plt.annotate(label,(comp1['BPD_x'][i],comp1['BPD_y'][i]))\n",
        "\n",
        "plt.plot()"
      ],
      "metadata": {
        "colab": {
          "base_uri": "https://localhost:8080/",
          "height": 581
        },
        "id": "Bv-Ixtw80ptr",
        "outputId": "ec899cb4-514f-441e-d079-2c1964209216"
      },
      "execution_count": 56,
      "outputs": [
        {
          "output_type": "execute_result",
          "data": {
            "text/plain": [
              "[]"
            ]
          },
          "metadata": {},
          "execution_count": 56
        },
        {
          "output_type": "display_data",
          "data": {
            "text/plain": [
              "<Figure size 1500x600 with 1 Axes>"
            ],
            "image/png": "[encoded data removed]"
          },
          "metadata": {}
        }
      ]
    },
    {
      "cell_type": "code",
      "source": [
        "def statsbyteam(df,team):\n",
        "\n",
        "  df=df[df.bowling_team==team]\n",
        "  df.reset_index(inplace=True,drop=True)\n",
        "\n",
        "  df['isDot'] = df['batsman_runs'].apply(lambda x: 1 if x == 0 else 0)\n",
        "  df['isOne'] = df['batsman_runs'].apply(lambda x: 1 if x == 1 else 0)\n",
        "  df['isTwo'] = df['batsman_runs'].apply(lambda x: 1 if x == 2 else 0)\n",
        "  df['isThree'] = df['batsman_runs'].apply(lambda x: 1 if x == 3 else 0)\n",
        "  df['isFour'] = df['batsman_runs'].apply(lambda x: 1 if x == 4 else 0)\n",
        "  df['isSix'] = df['batsman_runs'].apply(lambda x: 1 if x == 6 else 0)\n",
        "  \n",
        "  runs = pd.DataFrame(df.groupby(['batsman'])['batsman_runs'].sum().reset_index()).rename(columns={'batsman_runs':'runs'})\n",
        "  innings = pd.DataFrame(df.groupby(['batsman'])['matchId'].apply(lambda x: len(list(np.unique(x)))).reset_index()).rename(columns = {'matchId':'innings'})\n",
        "  balls = pd.DataFrame(df.groupby(['batsman'])['matchId'].count()).reset_index().rename(columns = {'matchId':'balls'})\n",
        "  dismissals = pd.DataFrame(df.groupby(['batsman'])['player_dismissed'].count()).reset_index().rename(columns = {'player_dismissed':'dismissals'})\n",
        "  \n",
        "  dots = pd.DataFrame(df.groupby(['batsman'])['isDot'].sum()).reset_index().rename(columns = {'isDot':'dots'})\n",
        "  ones = pd.DataFrame(df.groupby(['batsman'])['isOne'].sum()).reset_index().rename(columns = {'isOne':'ones'})\n",
        "  twos = pd.DataFrame(df.groupby(['batsman'])['isTwo'].sum()).reset_index().rename(columns = {'isTwo':'twos'})\n",
        "  threes = pd.DataFrame(df.groupby(['batsman'])['isThree'].sum()).reset_index().rename(columns = {'isThree':'threes'})\n",
        "  fours = pd.DataFrame(df.groupby(['batsman'])['isFour'].sum()).reset_index().rename(columns = {'isFour':'fours'})\n",
        "  sixes = pd.DataFrame(df.groupby(['batsman'])['isSix'].sum()).reset_index().rename(columns = {'isSix':'sixes'})\n",
        "  \n",
        "  df = pd.merge(innings, runs, on = 'batsman').merge(balls, on = 'batsman').merge(dismissals, on = 'batsman').merge(dots, on = 'batsman').merge(ones, on = 'batsman').merge(twos, on = 'batsman').merge(threes, on = 'batsman').merge(fours, on = 'batsman').merge(sixes, on = 'batsman')\n",
        "  \n",
        "  #StrikeRate\n",
        "  df['SR'] = df.apply(lambda x: 100*(x['runs']/x['balls']), axis = 1)\n",
        "\n",
        "  #runs per innings\n",
        "  df['RPI'] = df.apply(lambda x: x['runs']/x['innings'], axis = 1)\n",
        "\n",
        "  #balls per dismissals\n",
        "  df['BPD'] = df.apply(lambda x: balls_per_dismissal(x['balls'], x['dismissals']), axis = 1)\n",
        "\n",
        "  #balls per boundary\n",
        "  df['BPB'] = df.apply(lambda x: balls_per_boundary(x['balls'], (x['fours'] + x['sixes'])), axis = 1)\n",
        "  \n",
        "  return df"
      ],
      "metadata": {
        "id": "C-_YLeVW1w8I"
      },
      "execution_count": 57,
      "outputs": []
    },
    {
      "cell_type": "markdown",
      "source": [
        "#Stats vs MI\n"
      ],
      "metadata": {
        "id": "45BHtCgjQWJi"
      }
    },
    {
      "cell_type": "code",
      "source": [
        "againstmi=statsbyteam(deliveries,'Mumbai Indians')"
      ],
      "metadata": {
        "colab": {
          "base_uri": "https://localhost:8080/"
        },
        "id": "4m5EnulTKizg",
        "outputId": "79be89e3-5939-4da0-8a05-f32dd5860d95"
      },
      "execution_count": 58,
      "outputs": [
        {
          "output_type": "stream",
          "name": "stderr",
          "text": [
            "<ipython-input-57-48628cf7252b>:6: SettingWithCopyWarning: \n",
            "A value is trying to be set on a copy of a slice from a DataFrame.\n",
            "Try using .loc[row_indexer,col_indexer] = value instead\n",
            "\n",
            "See the caveats in the documentation: https://pandas.pydata.org/pandas-docs/stable/user_guide/indexing.html#returning-a-view-versus-a-copy\n",
            "  df['isDot'] = df['batsman_runs'].apply(lambda x: 1 if x == 0 else 0)\n",
            "<ipython-input-57-48628cf7252b>:7: SettingWithCopyWarning: \n",
            "A value is trying to be set on a copy of a slice from a DataFrame.\n",
            "Try using .loc[row_indexer,col_indexer] = value instead\n",
            "\n",
            "See the caveats in the documentation: https://pandas.pydata.org/pandas-docs/stable/user_guide/indexing.html#returning-a-view-versus-a-copy\n",
            "  df['isOne'] = df['batsman_runs'].apply(lambda x: 1 if x == 1 else 0)\n",
            "<ipython-input-57-48628cf7252b>:8: SettingWithCopyWarning: \n",
            "A value is trying to be set on a copy of a slice from a DataFrame.\n",
            "Try using .loc[row_indexer,col_indexer] = value instead\n",
            "\n",
            "See the caveats in the documentation: https://pandas.pydata.org/pandas-docs/stable/user_guide/indexing.html#returning-a-view-versus-a-copy\n",
            "  df['isTwo'] = df['batsman_runs'].apply(lambda x: 1 if x == 2 else 0)\n",
            "<ipython-input-57-48628cf7252b>:9: SettingWithCopyWarning: \n",
            "A value is trying to be set on a copy of a slice from a DataFrame.\n",
            "Try using .loc[row_indexer,col_indexer] = value instead\n",
            "\n",
            "See the caveats in the documentation: https://pandas.pydata.org/pandas-docs/stable/user_guide/indexing.html#returning-a-view-versus-a-copy\n",
            "  df['isThree'] = df['batsman_runs'].apply(lambda x: 1 if x == 3 else 0)\n",
            "<ipython-input-57-48628cf7252b>:10: SettingWithCopyWarning: \n",
            "A value is trying to be set on a copy of a slice from a DataFrame.\n",
            "Try using .loc[row_indexer,col_indexer] = value instead\n",
            "\n",
            "See the caveats in the documentation: https://pandas.pydata.org/pandas-docs/stable/user_guide/indexing.html#returning-a-view-versus-a-copy\n",
            "  df['isFour'] = df['batsman_runs'].apply(lambda x: 1 if x == 4 else 0)\n",
            "<ipython-input-57-48628cf7252b>:11: SettingWithCopyWarning: \n",
            "A value is trying to be set on a copy of a slice from a DataFrame.\n",
            "Try using .loc[row_indexer,col_indexer] = value instead\n",
            "\n",
            "See the caveats in the documentation: https://pandas.pydata.org/pandas-docs/stable/user_guide/indexing.html#returning-a-view-versus-a-copy\n",
            "  df['isSix'] = df['batsman_runs'].apply(lambda x: 1 if x == 6 else 0)\n"
          ]
        }
      ]
    },
    {
      "cell_type": "code",
      "source": [
        "againstmi.head(5)"
      ],
      "metadata": {
        "colab": {
          "base_uri": "https://localhost:8080/",
          "height": 206
        },
        "id": "r05zndh0LAES",
        "outputId": "8e904d60-9747-4707-f50b-f6f797457e10"
      },
      "execution_count": 59,
      "outputs": [
        {
          "output_type": "execute_result",
          "data": {
            "text/plain": [
              "          batsman  innings  runs  balls  dismissals  dots  ones  twos  threes  \\\n",
              "0  A Ashish Reddy        2    27     25           2    12     7     4       0   \n",
              "1        A Badoni        1    14     11           1     3     6     1       0   \n",
              "2        A Chopra        1     1      4           0     3     1     0       0   \n",
              "3      A Flintoff        1    24     25           1    14     7     0       1   \n",
              "4        A Kumble        3     9     12           0     6     5     0       0   \n",
              "\n",
              "   fours  sixes          SR   RPI   BPD        BPB  \n",
              "0      0      2  108.000000  13.5  12.5  12.500000  \n",
              "1      0      1  127.272727  14.0  11.0  11.000000  \n",
              "2      0      0   25.000000   1.0   4.0   4.000000  \n",
              "3      2      1   96.000000  24.0  25.0   8.333333  \n",
              "4      1      0   75.000000   3.0  12.0  12.000000  "
            ],
            "text/html": [
              "\n",
              "  <div id=\"df-68eadd79-f7aa-42c1-a02d-f0127557377a\">\n",
              "    <div class=\"colab-df-container\">\n",
              "      <div>\n",
              "<style scoped>\n",
              "    .dataframe tbody tr th:only-of-type {\n",
              "        vertical-align: middle;\n",
              "    }\n",
              "\n",
              "    .dataframe tbody tr th {\n",
              "        vertical-align: top;\n",
              "    }\n",
              "\n",
              "    .dataframe thead th {\n",
              "        text-align: right;\n",
              "    }\n",
              "</style>\n",
              "<table border=\"1\" class=\"dataframe\">\n",
              "  <thead>\n",
              "    <tr style=\"text-align: right;\">\n",
              "      <th></th>\n",
              "      <th>batsman</th>\n",
              "      <th>innings</th>\n",
              "      <th>runs</th>\n",
              "      <th>balls</th>\n",
              "      <th>dismissals</th>\n",
              "      <th>dots</th>\n",
              "      <th>ones</th>\n",
              "      <th>twos</th>\n",
              "      <th>threes</th>\n",
              "      <th>fours</th>\n",
              "      <th>sixes</th>\n",
              "      <th>SR</th>\n",
              "      <th>RPI</th>\n",
              "      <th>BPD</th>\n",
              "      <th>BPB</th>\n",
              "    </tr>\n",
              "  </thead>\n",
              "  <tbody>\n",
              "    <tr>\n",
              "      <th>0</th>\n",
              "      <td>A Ashish Reddy</td>\n",
              "      <td>2</td>\n",
              "      <td>27</td>\n",
              "      <td>25</td>\n",
              "      <td>2</td>\n",
              "      <td>12</td>\n",
              "      <td>7</td>\n",
              "      <td>4</td>\n",
              "      <td>0</td>\n",
              "      <td>0</td>\n",
              "      <td>2</td>\n",
              "      <td>108.000000</td>\n",
              "      <td>13.5</td>\n",
              "      <td>12.5</td>\n",
              "      <td>12.500000</td>\n",
              "    </tr>\n",
              "    <tr>\n",
              "      <th>1</th>\n",
              "      <td>A Badoni</td>\n",
              "      <td>1</td>\n",
              "      <td>14</td>\n",
              "      <td>11</td>\n",
              "      <td>1</td>\n",
              "      <td>3</td>\n",
              "      <td>6</td>\n",
              "      <td>1</td>\n",
              "      <td>0</td>\n",
              "      <td>0</td>\n",
              "      <td>1</td>\n",
              "      <td>127.272727</td>\n",
              "      <td>14.0</td>\n",
              "      <td>11.0</td>\n",
              "      <td>11.000000</td>\n",
              "    </tr>\n",
              "    <tr>\n",
              "      <th>2</th>\n",
              "      <td>A Chopra</td>\n",
              "      <td>1</td>\n",
              "      <td>1</td>\n",
              "      <td>4</td>\n",
              "      <td>0</td>\n",
              "      <td>3</td>\n",
              "      <td>1</td>\n",
              "      <td>0</td>\n",
              "      <td>0</td>\n",
              "      <td>0</td>\n",
              "      <td>0</td>\n",
              "      <td>25.000000</td>\n",
              "      <td>1.0</td>\n",
              "      <td>4.0</td>\n",
              "      <td>4.000000</td>\n",
              "    </tr>\n",
              "    <tr>\n",
              "      <th>3</th>\n",
              "      <td>A Flintoff</td>\n",
              "      <td>1</td>\n",
              "      <td>24</td>\n",
              "      <td>25</td>\n",
              "      <td>1</td>\n",
              "      <td>14</td>\n",
              "      <td>7</td>\n",
              "      <td>0</td>\n",
              "      <td>1</td>\n",
              "      <td>2</td>\n",
              "      <td>1</td>\n",
              "      <td>96.000000</td>\n",
              "      <td>24.0</td>\n",
              "      <td>25.0</td>\n",
              "      <td>8.333333</td>\n",
              "    </tr>\n",
              "    <tr>\n",
              "      <th>4</th>\n",
              "      <td>A Kumble</td>\n",
              "      <td>3</td>\n",
              "      <td>9</td>\n",
              "      <td>12</td>\n",
              "      <td>0</td>\n",
              "      <td>6</td>\n",
              "      <td>5</td>\n",
              "      <td>0</td>\n",
              "      <td>0</td>\n",
              "      <td>1</td>\n",
              "      <td>0</td>\n",
              "      <td>75.000000</td>\n",
              "      <td>3.0</td>\n",
              "      <td>12.0</td>\n",
              "      <td>12.000000</td>\n",
              "    </tr>\n",
              "  </tbody>\n",
              "</table>\n",
              "</div>\n",
              "      <button class=\"colab-df-convert\" onclick=\"convertToInteractive('df-68eadd79-f7aa-42c1-a02d-f0127557377a')\"\n",
              "              title=\"Convert this dataframe to an interactive table.\"\n",
              "              style=\"display:none;\">\n",
              "        \n",
              "  <svg xmlns=\"http://www.w3.org/2000/svg\" height=\"24px\"viewBox=\"0 0 24 24\"\n",
              "       width=\"24px\">\n",
              "    <path d=\"M0 0h24v24H0V0z\" fill=\"none\"/>\n",
              "    <path d=\"M18.56 5.44l.94 2.06.94-2.06 2.06-.94-2.06-.94-.94-2.06-.94 2.06-2.06.94zm-11 1L8.5 8.5l.94-2.06 2.06-.94-2.06-.94L8.5 2.5l-.94 2.06-2.06.94zm10 10l.94 2.06.94-2.06 2.06-.94-2.06-.94-.94-2.06-.94 2.06-2.06.94z\"/><path d=\"M17.41 7.96l-1.37-1.37c-.4-.4-.92-.59-1.43-.59-.52 0-1.04.2-1.43.59L10.3 9.45l-7.72 7.72c-.78.78-.78 2.05 0 2.83L4 21.41c.39.39.9.59 1.41.59.51 0 1.02-.2 1.41-.59l7.78-7.78 2.81-2.81c.8-.78.8-2.07 0-2.86zM5.41 20L4 18.59l7.72-7.72 1.47 1.35L5.41 20z\"/>\n",
              "  </svg>\n",
              "      </button>\n",
              "      \n",
              "  <style>\n",
              "    .colab-df-container {\n",
              "      display:flex;\n",
              "      flex-wrap:wrap;\n",
              "      gap: 12px;\n",
              "    }\n",
              "\n",
              "    .colab-df-convert {\n",
              "      background-color: #E8F0FE;\n",
              "      border: none;\n",
              "      border-radius: 50%;\n",
              "      cursor: pointer;\n",
              "      display: none;\n",
              "      fill: #1967D2;\n",
              "      height: 32px;\n",
              "      padding: 0 0 0 0;\n",
              "      width: 32px;\n",
              "    }\n",
              "\n",
              "    .colab-df-convert:hover {\n",
              "      background-color: #E2EBFA;\n",
              "      box-shadow: 0px 1px 2px rgba(60, 64, 67, 0.3), 0px 1px 3px 1px rgba(60, 64, 67, 0.15);\n",
              "      fill: #174EA6;\n",
              "    }\n",
              "\n",
              "    [theme=dark] .colab-df-convert {\n",
              "      background-color: #3B4455;\n",
              "      fill: #D2E3FC;\n",
              "    }\n",
              "\n",
              "    [theme=dark] .colab-df-convert:hover {\n",
              "      background-color: #434B5C;\n",
              "      box-shadow: 0px 1px 3px 1px rgba(0, 0, 0, 0.15);\n",
              "      filter: drop-shadow(0px 1px 2px rgba(0, 0, 0, 0.3));\n",
              "      fill: #FFFFFF;\n",
              "    }\n",
              "  </style>\n",
              "\n",
              "      <script>\n",
              "        const buttonEl =\n",
              "          document.querySelector('#df-68eadd79-f7aa-42c1-a02d-f0127557377a button.colab-df-convert');\n",
              "        buttonEl.style.display =\n",
              "          google.colab.kernel.accessAllowed ? 'block' : 'none';\n",
              "\n",
              "        async function convertToInteractive(key) {\n",
              "          const element = document.querySelector('#df-68eadd79-f7aa-42c1-a02d-f0127557377a');\n",
              "          const dataTable =\n",
              "            await google.colab.kernel.invokeFunction('convertToInteractive',\n",
              "                                                     [key], {});\n",
              "          if (!dataTable) return;\n",
              "\n",
              "          const docLinkHtml = 'Like what you see? Visit the ' +\n",
              "            '<a target=\"_blank\" href=https://colab.research.google.com/notebooks/data_table.ipynb>data table notebook</a>'\n",
              "            + ' to learn more about interactive tables.';\n",
              "          element.innerHTML = '';\n",
              "          dataTable['output_type'] = 'display_data';\n",
              "          await google.colab.output.renderOutput(dataTable, element);\n",
              "          const docLink = document.createElement('div');\n",
              "          docLink.innerHTML = docLinkHtml;\n",
              "          element.appendChild(docLink);\n",
              "        }\n",
              "      </script>\n",
              "    </div>\n",
              "  </div>\n",
              "  "
            ]
          },
          "metadata": {},
          "execution_count": 59
        }
      ]
    },
    {
      "cell_type": "code",
      "source": [
        "againstmi.groupby('batsman')['runs'].sum().sort_values(ascending=False).head(10)"
      ],
      "metadata": {
        "colab": {
          "base_uri": "https://localhost:8080/"
        },
        "id": "XNxF2sy9LYwd",
        "outputId": "48e4be08-3866-4ca8-dca6-f6ed6c1fa432"
      },
      "execution_count": 60,
      "outputs": [
        {
          "output_type": "execute_result",
          "data": {
            "text/plain": [
              "batsman\n",
              "KL Rahul          871\n",
              "S Dhawan          871\n",
              "SK Raina          824\n",
              "AB de Villiers    791\n",
              "V Kohli           774\n",
              "MS Dhoni          746\n",
              "CH Gayle          715\n",
              "MK Pandey         710\n",
              "DA Warner         666\n",
              "AM Rahane         625\n",
              "Name: runs, dtype: int64"
            ]
          },
          "metadata": {},
          "execution_count": 60
        }
      ]
    },
    {
      "cell_type": "code",
      "source": [
        "againstmi.groupby('batsman')['runs'].sum().sort_values(ascending=False).head(10).plot(kind='bar')\n",
        "plt.xlabel('Player Name')\n",
        "plt.ylabel('Total Runs')\n",
        "plt.title('Most Runs vs MI')\n",
        "plt.plot()"
      ],
      "metadata": {
        "colab": {
          "base_uri": "https://localhost:8080/",
          "height": 566
        },
        "id": "W_Om3ISmLuUv",
        "outputId": "895e2918-fca1-45f9-a805-8dc22a2c35e2"
      },
      "execution_count": 61,
      "outputs": [
        {
          "output_type": "execute_result",
          "data": {
            "text/plain": [
              "[]"
            ]
          },
          "metadata": {},
          "execution_count": 61
        },
        {
          "output_type": "display_data",
          "data": {
            "text/plain": [
              "<Figure size 640x480 with 1 Axes>"
            ],
            "image/png": "[encoded data removed]"
          },
          "metadata": {}
        }
      ]
    },
    {
      "cell_type": "code",
      "source": [
        "againstmi.groupby('batsman')['dots'].sum().sort_values(ascending=False).head(10)"
      ],
      "metadata": {
        "colab": {
          "base_uri": "https://localhost:8080/"
        },
        "id": "BtbE5rOjMHUP",
        "outputId": "0590b067-6007-4494-e7a4-b37e7c4e9f1e"
      },
      "execution_count": 62,
      "outputs": [
        {
          "output_type": "execute_result",
          "data": {
            "text/plain": [
              "batsman\n",
              "CH Gayle      281\n",
              "S Dhawan      273\n",
              "MS Dhoni      242\n",
              "V Kohli       235\n",
              "RV Uthappa    226\n",
              "KL Rahul      225\n",
              "SK Raina      223\n",
              "AM Rahane     214\n",
              "SR Watson     210\n",
              "M Vijay       197\n",
              "Name: dots, dtype: int64"
            ]
          },
          "metadata": {},
          "execution_count": 62
        }
      ]
    },
    {
      "cell_type": "code",
      "source": [
        "againstmi.groupby('batsman')['fours'].sum().sort_values(ascending=False).head(10)"
      ],
      "metadata": {
        "colab": {
          "base_uri": "https://localhost:8080/"
        },
        "id": "SGKJsI3dQbsC",
        "outputId": "55bca387-76ba-4d84-ab2f-51d41e541e10"
      },
      "execution_count": 63,
      "outputs": [
        {
          "output_type": "execute_result",
          "data": {
            "text/plain": [
              "batsman\n",
              "S Dhawan          95\n",
              "AB de Villiers    72\n",
              "AM Rahane         70\n",
              "KL Rahul          68\n",
              "SK Raina          68\n",
              "V Kohli           65\n",
              "DA Warner         64\n",
              "CH Gayle          62\n",
              "MK Pandey         57\n",
              "MS Dhoni          57\n",
              "Name: fours, dtype: int64"
            ]
          },
          "metadata": {},
          "execution_count": 63
        }
      ]
    },
    {
      "cell_type": "code",
      "source": [
        "againstmi.groupby('batsman')['sixes'].sum().sort_values(ascending=False).head(10)"
      ],
      "metadata": {
        "colab": {
          "base_uri": "https://localhost:8080/"
        },
        "id": "yCpTATa7QxWg",
        "outputId": "927c18fb-7055-4531-a0c1-50e86ff2494f"
      },
      "execution_count": 64,
      "outputs": [
        {
          "output_type": "execute_result",
          "data": {
            "text/plain": [
              "batsman\n",
              "CH Gayle          45\n",
              "AB de Villiers    36\n",
              "SK Raina          35\n",
              "MS Dhoni          34\n",
              "KL Rahul          34\n",
              "JC Buttler        29\n",
              "V Kohli           27\n",
              "RV Uthappa        26\n",
              "MK Pandey         25\n",
              "DA Warner         25\n",
              "Name: sixes, dtype: int64"
            ]
          },
          "metadata": {},
          "execution_count": 64
        }
      ]
    },
    {
      "cell_type": "markdown",
      "source": [
        "#Stats vs CSK\n"
      ],
      "metadata": {
        "id": "8h_DknaoRJXg"
      }
    },
    {
      "cell_type": "code",
      "source": [
        "againstcsk=statsbyteam(deliveries,'Chennai Super Kings')"
      ],
      "metadata": {
        "colab": {
          "base_uri": "https://localhost:8080/"
        },
        "id": "dTdGl8CsQzuD",
        "outputId": "a173d39b-7cdf-48c9-bd84-116f16eb43fa"
      },
      "execution_count": 65,
      "outputs": [
        {
          "output_type": "stream",
          "name": "stderr",
          "text": [
            "<ipython-input-57-48628cf7252b>:6: SettingWithCopyWarning: \n",
            "A value is trying to be set on a copy of a slice from a DataFrame.\n",
            "Try using .loc[row_indexer,col_indexer] = value instead\n",
            "\n",
            "See the caveats in the documentation: https://pandas.pydata.org/pandas-docs/stable/user_guide/indexing.html#returning-a-view-versus-a-copy\n",
            "  df['isDot'] = df['batsman_runs'].apply(lambda x: 1 if x == 0 else 0)\n",
            "<ipython-input-57-48628cf7252b>:7: SettingWithCopyWarning: \n",
            "A value is trying to be set on a copy of a slice from a DataFrame.\n",
            "Try using .loc[row_indexer,col_indexer] = value instead\n",
            "\n",
            "See the caveats in the documentation: https://pandas.pydata.org/pandas-docs/stable/user_guide/indexing.html#returning-a-view-versus-a-copy\n",
            "  df['isOne'] = df['batsman_runs'].apply(lambda x: 1 if x == 1 else 0)\n",
            "<ipython-input-57-48628cf7252b>:8: SettingWithCopyWarning: \n",
            "A value is trying to be set on a copy of a slice from a DataFrame.\n",
            "Try using .loc[row_indexer,col_indexer] = value instead\n",
            "\n",
            "See the caveats in the documentation: https://pandas.pydata.org/pandas-docs/stable/user_guide/indexing.html#returning-a-view-versus-a-copy\n",
            "  df['isTwo'] = df['batsman_runs'].apply(lambda x: 1 if x == 2 else 0)\n",
            "<ipython-input-57-48628cf7252b>:9: SettingWithCopyWarning: \n",
            "A value is trying to be set on a copy of a slice from a DataFrame.\n",
            "Try using .loc[row_indexer,col_indexer] = value instead\n",
            "\n",
            "See the caveats in the documentation: https://pandas.pydata.org/pandas-docs/stable/user_guide/indexing.html#returning-a-view-versus-a-copy\n",
            "  df['isThree'] = df['batsman_runs'].apply(lambda x: 1 if x == 3 else 0)\n",
            "<ipython-input-57-48628cf7252b>:10: SettingWithCopyWarning: \n",
            "A value is trying to be set on a copy of a slice from a DataFrame.\n",
            "Try using .loc[row_indexer,col_indexer] = value instead\n",
            "\n",
            "See the caveats in the documentation: https://pandas.pydata.org/pandas-docs/stable/user_guide/indexing.html#returning-a-view-versus-a-copy\n",
            "  df['isFour'] = df['batsman_runs'].apply(lambda x: 1 if x == 4 else 0)\n",
            "<ipython-input-57-48628cf7252b>:11: SettingWithCopyWarning: \n",
            "A value is trying to be set on a copy of a slice from a DataFrame.\n",
            "Try using .loc[row_indexer,col_indexer] = value instead\n",
            "\n",
            "See the caveats in the documentation: https://pandas.pydata.org/pandas-docs/stable/user_guide/indexing.html#returning-a-view-versus-a-copy\n",
            "  df['isSix'] = df['batsman_runs'].apply(lambda x: 1 if x == 6 else 0)\n"
          ]
        }
      ]
    },
    {
      "cell_type": "code",
      "source": [
        "againstcsk.head(5)"
      ],
      "metadata": {
        "colab": {
          "base_uri": "https://localhost:8080/",
          "height": 206
        },
        "id": "aqOLa4ZuRYb3",
        "outputId": "4e5c7384-fb6b-4846-a87f-91d4aa4667cc"
      },
      "execution_count": 66,
      "outputs": [
        {
          "output_type": "execute_result",
          "data": {
            "text/plain": [
              "          batsman  innings  runs  balls  dismissals  dots  ones  twos  threes  \\\n",
              "0  A Ashish Reddy        3    45     25           2     8     8     2       1   \n",
              "1        A Badoni        1    19     14           0     7     3     2       0   \n",
              "2        A Kumble        2     3      6           0     4     1     1       0   \n",
              "3       A Manohar        1    12     12           1     6     4     0       0   \n",
              "4        A Mishra        8    58     64           5    35    16     6       0   \n",
              "\n",
              "   fours  sixes          SR    RPI   BPD       BPB  \n",
              "0      3      3  180.000000  15.00  12.5  4.166667  \n",
              "1      0      2  135.714286  19.00  14.0  7.000000  \n",
              "2      0      0   50.000000   1.50   6.0  6.000000  \n",
              "3      2      0  100.000000  12.00  12.0  6.000000  \n",
              "4      6      1   90.625000   7.25  12.8  9.142857  "
            ],
            "text/html": [
              "\n",
              "  <div id=\"df-978b270c-59d0-429e-b55f-9b9e6c723b8c\">\n",
              "    <div class=\"colab-df-container\">\n",
              "      <div>\n",
              "<style scoped>\n",
              "    .dataframe tbody tr th:only-of-type {\n",
              "        vertical-align: middle;\n",
              "    }\n",
              "\n",
              "    .dataframe tbody tr th {\n",
              "        vertical-align: top;\n",
              "    }\n",
              "\n",
              "    .dataframe thead th {\n",
              "        text-align: right;\n",
              "    }\n",
              "</style>\n",
              "<table border=\"1\" class=\"dataframe\">\n",
              "  <thead>\n",
              "    <tr style=\"text-align: right;\">\n",
              "      <th></th>\n",
              "      <th>batsman</th>\n",
              "      <th>innings</th>\n",
              "      <th>runs</th>\n",
              "      <th>balls</th>\n",
              "      <th>dismissals</th>\n",
              "      <th>dots</th>\n",
              "      <th>ones</th>\n",
              "      <th>twos</th>\n",
              "      <th>threes</th>\n",
              "      <th>fours</th>\n",
              "      <th>sixes</th>\n",
              "      <th>SR</th>\n",
              "      <th>RPI</th>\n",
              "      <th>BPD</th>\n",
              "      <th>BPB</th>\n",
              "    </tr>\n",
              "  </thead>\n",
              "  <tbody>\n",
              "    <tr>\n",
              "      <th>0</th>\n",
              "      <td>A Ashish Reddy</td>\n",
              "      <td>3</td>\n",
              "      <td>45</td>\n",
              "      <td>25</td>\n",
              "      <td>2</td>\n",
              "      <td>8</td>\n",
              "      <td>8</td>\n",
              "      <td>2</td>\n",
              "      <td>1</td>\n",
              "      <td>3</td>\n",
              "      <td>3</td>\n",
              "      <td>180.000000</td>\n",
              "      <td>15.00</td>\n",
              "      <td>12.5</td>\n",
              "      <td>4.166667</td>\n",
              "    </tr>\n",
              "    <tr>\n",
              "      <th>1</th>\n",
              "      <td>A Badoni</td>\n",
              "      <td>1</td>\n",
              "      <td>19</td>\n",
              "      <td>14</td>\n",
              "      <td>0</td>\n",
              "      <td>7</td>\n",
              "      <td>3</td>\n",
              "      <td>2</td>\n",
              "      <td>0</td>\n",
              "      <td>0</td>\n",
              "      <td>2</td>\n",
              "      <td>135.714286</td>\n",
              "      <td>19.00</td>\n",
              "      <td>14.0</td>\n",
              "      <td>7.000000</td>\n",
              "    </tr>\n",
              "    <tr>\n",
              "      <th>2</th>\n",
              "      <td>A Kumble</td>\n",
              "      <td>2</td>\n",
              "      <td>3</td>\n",
              "      <td>6</td>\n",
              "      <td>0</td>\n",
              "      <td>4</td>\n",
              "      <td>1</td>\n",
              "      <td>1</td>\n",
              "      <td>0</td>\n",
              "      <td>0</td>\n",
              "      <td>0</td>\n",
              "      <td>50.000000</td>\n",
              "      <td>1.50</td>\n",
              "      <td>6.0</td>\n",
              "      <td>6.000000</td>\n",
              "    </tr>\n",
              "    <tr>\n",
              "      <th>3</th>\n",
              "      <td>A Manohar</td>\n",
              "      <td>1</td>\n",
              "      <td>12</td>\n",
              "      <td>12</td>\n",
              "      <td>1</td>\n",
              "      <td>6</td>\n",
              "      <td>4</td>\n",
              "      <td>0</td>\n",
              "      <td>0</td>\n",
              "      <td>2</td>\n",
              "      <td>0</td>\n",
              "      <td>100.000000</td>\n",
              "      <td>12.00</td>\n",
              "      <td>12.0</td>\n",
              "      <td>6.000000</td>\n",
              "    </tr>\n",
              "    <tr>\n",
              "      <th>4</th>\n",
              "      <td>A Mishra</td>\n",
              "      <td>8</td>\n",
              "      <td>58</td>\n",
              "      <td>64</td>\n",
              "      <td>5</td>\n",
              "      <td>35</td>\n",
              "      <td>16</td>\n",
              "      <td>6</td>\n",
              "      <td>0</td>\n",
              "      <td>6</td>\n",
              "      <td>1</td>\n",
              "      <td>90.625000</td>\n",
              "      <td>7.25</td>\n",
              "      <td>12.8</td>\n",
              "      <td>9.142857</td>\n",
              "    </tr>\n",
              "  </tbody>\n",
              "</table>\n",
              "</div>\n",
              "      <button class=\"colab-df-convert\" onclick=\"convertToInteractive('df-978b270c-59d0-429e-b55f-9b9e6c723b8c')\"\n",
              "              title=\"Convert this dataframe to an interactive table.\"\n",
              "              style=\"display:none;\">\n",
              "        \n",
              "  <svg xmlns=\"http://www.w3.org/2000/svg\" height=\"24px\"viewBox=\"0 0 24 24\"\n",
              "       width=\"24px\">\n",
              "    <path d=\"M0 0h24v24H0V0z\" fill=\"none\"/>\n",
              "    <path d=\"M18.56 5.44l.94 2.06.94-2.06 2.06-.94-2.06-.94-.94-2.06-.94 2.06-2.06.94zm-11 1L8.5 8.5l.94-2.06 2.06-.94-2.06-.94L8.5 2.5l-.94 2.06-2.06.94zm10 10l.94 2.06.94-2.06 2.06-.94-2.06-.94-.94-2.06-.94 2.06-2.06.94z\"/><path d=\"M17.41 7.96l-1.37-1.37c-.4-.4-.92-.59-1.43-.59-.52 0-1.04.2-1.43.59L10.3 9.45l-7.72 7.72c-.78.78-.78 2.05 0 2.83L4 21.41c.39.39.9.59 1.41.59.51 0 1.02-.2 1.41-.59l7.78-7.78 2.81-2.81c.8-.78.8-2.07 0-2.86zM5.41 20L4 18.59l7.72-7.72 1.47 1.35L5.41 20z\"/>\n",
              "  </svg>\n",
              "      </button>\n",
              "      \n",
              "  <style>\n",
              "    .colab-df-container {\n",
              "      display:flex;\n",
              "      flex-wrap:wrap;\n",
              "      gap: 12px;\n",
              "    }\n",
              "\n",
              "    .colab-df-convert {\n",
              "      background-color: #E8F0FE;\n",
              "      border: none;\n",
              "      border-radius: 50%;\n",
              "      cursor: pointer;\n",
              "      display: none;\n",
              "      fill: #1967D2;\n",
              "      height: 32px;\n",
              "      padding: 0 0 0 0;\n",
              "      width: 32px;\n",
              "    }\n",
              "\n",
              "    .colab-df-convert:hover {\n",
              "      background-color: #E2EBFA;\n",
              "      box-shadow: 0px 1px 2px rgba(60, 64, 67, 0.3), 0px 1px 3px 1px rgba(60, 64, 67, 0.15);\n",
              "      fill: #174EA6;\n",
              "    }\n",
              "\n",
              "    [theme=dark] .colab-df-convert {\n",
              "      background-color: #3B4455;\n",
              "      fill: #D2E3FC;\n",
              "    }\n",
              "\n",
              "    [theme=dark] .colab-df-convert:hover {\n",
              "      background-color: #434B5C;\n",
              "      box-shadow: 0px 1px 3px 1px rgba(0, 0, 0, 0.15);\n",
              "      filter: drop-shadow(0px 1px 2px rgba(0, 0, 0, 0.3));\n",
              "      fill: #FFFFFF;\n",
              "    }\n",
              "  </style>\n",
              "\n",
              "      <script>\n",
              "        const buttonEl =\n",
              "          document.querySelector('#df-978b270c-59d0-429e-b55f-9b9e6c723b8c button.colab-df-convert');\n",
              "        buttonEl.style.display =\n",
              "          google.colab.kernel.accessAllowed ? 'block' : 'none';\n",
              "\n",
              "        async function convertToInteractive(key) {\n",
              "          const element = document.querySelector('#df-978b270c-59d0-429e-b55f-9b9e6c723b8c');\n",
              "          const dataTable =\n",
              "            await google.colab.kernel.invokeFunction('convertToInteractive',\n",
              "                                                     [key], {});\n",
              "          if (!dataTable) return;\n",
              "\n",
              "          const docLinkHtml = 'Like what you see? Visit the ' +\n",
              "            '<a target=\"_blank\" href=https://colab.research.google.com/notebooks/data_table.ipynb>data table notebook</a>'\n",
              "            + ' to learn more about interactive tables.';\n",
              "          element.innerHTML = '';\n",
              "          dataTable['output_type'] = 'display_data';\n",
              "          await google.colab.output.renderOutput(dataTable, element);\n",
              "          const docLink = document.createElement('div');\n",
              "          docLink.innerHTML = docLinkHtml;\n",
              "          element.appendChild(docLink);\n",
              "        }\n",
              "      </script>\n",
              "    </div>\n",
              "  </div>\n",
              "  "
            ]
          },
          "metadata": {},
          "execution_count": 66
        }
      ]
    },
    {
      "cell_type": "code",
      "source": [
        "againstcsk.groupby('batsman')['runs'].sum().sort_values(ascending=False).head(10)"
      ],
      "metadata": {
        "colab": {
          "base_uri": "https://localhost:8080/"
        },
        "id": "aH273ePjRaz3",
        "outputId": "ae450a7b-9c51-4903-f071-c1c002a844f4"
      },
      "execution_count": 67,
      "outputs": [
        {
          "output_type": "execute_result",
          "data": {
            "text/plain": [
              "batsman\n",
              "S Dhawan          1029\n",
              "V Kohli            979\n",
              "RG Sharma          770\n",
              "KD Karthik         647\n",
              "KA Pollard         583\n",
              "DA Warner          558\n",
              "RV Uthappa         547\n",
              "AB de Villiers     532\n",
              "SR Watson          480\n",
              "KL Rahul           435\n",
              "Name: runs, dtype: int64"
            ]
          },
          "metadata": {},
          "execution_count": 67
        }
      ]
    },
    {
      "cell_type": "code",
      "source": [
        "againstcsk.groupby('batsman')['runs'].sum().sort_values(ascending=False).head(10).plot(kind='bar',color='y')\n",
        "plt.xlabel('Player Name')\n",
        "plt.ylabel('Total Runs')\n",
        "plt.title('Most Runs vs CSK')\n",
        "plt.plot()"
      ],
      "metadata": {
        "colab": {
          "base_uri": "https://localhost:8080/",
          "height": 566
        },
        "id": "tsKPE1H3RwEX",
        "outputId": "fa621149-e7ed-4749-b982-db0bedbff8f1"
      },
      "execution_count": 77,
      "outputs": [
        {
          "output_type": "execute_result",
          "data": {
            "text/plain": [
              "[]"
            ]
          },
          "metadata": {},
          "execution_count": 77
        },
        {
          "output_type": "display_data",
          "data": {
            "text/plain": [
              "<Figure size 640x480 with 1 Axes>"
            ],
            "image/png": "[encoded data removed]"
          },
          "metadata": {}
        }
      ]
    },
    {
      "cell_type": "code",
      "source": [
        "againstcsk.groupby('batsman')['dots'].sum().sort_values(ascending=False).head(10)"
      ],
      "metadata": {
        "colab": {
          "base_uri": "https://localhost:8080/"
        },
        "id": "0ec526gUR3ES",
        "outputId": "c118e97e-7efa-49a7-ad43-f0d509cc9c63"
      },
      "execution_count": 69,
      "outputs": [
        {
          "output_type": "execute_result",
          "data": {
            "text/plain": [
              "batsman\n",
              "V Kohli       301\n",
              "S Dhawan      296\n",
              "RG Sharma     236\n",
              "KD Karthik    191\n",
              "RV Uthappa    176\n",
              "DA Warner     168\n",
              "CH Gayle      168\n",
              "G Gambhir     140\n",
              "MK Pandey     136\n",
              "KA Pollard    135\n",
              "Name: dots, dtype: int64"
            ]
          },
          "metadata": {},
          "execution_count": 69
        }
      ]
    },
    {
      "cell_type": "code",
      "source": [
        "againstcsk.groupby('batsman')['fours'].sum().sort_values(ascending=False).head(10)"
      ],
      "metadata": {
        "colab": {
          "base_uri": "https://localhost:8080/"
        },
        "id": "sVeIXnO1Si3O",
        "outputId": "23c26c3a-be5d-4d04-83fd-2b70961017c5"
      },
      "execution_count": 70,
      "outputs": [
        {
          "output_type": "execute_result",
          "data": {
            "text/plain": [
              "batsman\n",
              "S Dhawan          114\n",
              "V Kohli            72\n",
              "KD Karthik         71\n",
              "RG Sharma          69\n",
              "DA Warner          55\n",
              "RV Uthappa         54\n",
              "G Gambhir          49\n",
              "V Sehwag           48\n",
              "SR Tendulkar       45\n",
              "AB de Villiers     42\n",
              "Name: fours, dtype: int64"
            ]
          },
          "metadata": {},
          "execution_count": 70
        }
      ]
    },
    {
      "cell_type": "code",
      "source": [
        "againstcsk.groupby('batsman')['sixes'].sum().sort_values(ascending=False).head(10)"
      ],
      "metadata": {
        "colab": {
          "base_uri": "https://localhost:8080/"
        },
        "id": "4rI8XPvqSknO",
        "outputId": "1ee56efd-7ec9-478f-b940-def3c3349123"
      },
      "execution_count": 71,
      "outputs": [
        {
          "output_type": "execute_result",
          "data": {
            "text/plain": [
              "batsman\n",
              "KA Pollard        44\n",
              "V Kohli           37\n",
              "CH Gayle          30\n",
              "SR Watson         27\n",
              "RG Sharma         26\n",
              "AD Russell        26\n",
              "AB de Villiers    25\n",
              "S Dhawan          21\n",
              "KL Rahul          20\n",
              "RV Uthappa        20\n",
              "Name: sixes, dtype: int64"
            ]
          },
          "metadata": {},
          "execution_count": 71
        }
      ]
    },
    {
      "cell_type": "markdown",
      "source": [
        "#Stats vs RCB"
      ],
      "metadata": {
        "id": "m4BVVNl2SoZ9"
      }
    },
    {
      "cell_type": "code",
      "source": [
        "againstrcb=statsbyteam(deliveries,'Royal Challengers Bangalore')"
      ],
      "metadata": {
        "colab": {
          "base_uri": "https://localhost:8080/"
        },
        "id": "cQ5Nbkk_SmZ0",
        "outputId": "cbee5128-b816-470d-d0f5-2d08091c0073"
      },
      "execution_count": 72,
      "outputs": [
        {
          "output_type": "stream",
          "name": "stderr",
          "text": [
            "<ipython-input-57-48628cf7252b>:6: SettingWithCopyWarning: \n",
            "A value is trying to be set on a copy of a slice from a DataFrame.\n",
            "Try using .loc[row_indexer,col_indexer] = value instead\n",
            "\n",
            "See the caveats in the documentation: https://pandas.pydata.org/pandas-docs/stable/user_guide/indexing.html#returning-a-view-versus-a-copy\n",
            "  df['isDot'] = df['batsman_runs'].apply(lambda x: 1 if x == 0 else 0)\n",
            "<ipython-input-57-48628cf7252b>:7: SettingWithCopyWarning: \n",
            "A value is trying to be set on a copy of a slice from a DataFrame.\n",
            "Try using .loc[row_indexer,col_indexer] = value instead\n",
            "\n",
            "See the caveats in the documentation: https://pandas.pydata.org/pandas-docs/stable/user_guide/indexing.html#returning-a-view-versus-a-copy\n",
            "  df['isOne'] = df['batsman_runs'].apply(lambda x: 1 if x == 1 else 0)\n",
            "<ipython-input-57-48628cf7252b>:8: SettingWithCopyWarning: \n",
            "A value is trying to be set on a copy of a slice from a DataFrame.\n",
            "Try using .loc[row_indexer,col_indexer] = value instead\n",
            "\n",
            "See the caveats in the documentation: https://pandas.pydata.org/pandas-docs/stable/user_guide/indexing.html#returning-a-view-versus-a-copy\n",
            "  df['isTwo'] = df['batsman_runs'].apply(lambda x: 1 if x == 2 else 0)\n",
            "<ipython-input-57-48628cf7252b>:9: SettingWithCopyWarning: \n",
            "A value is trying to be set on a copy of a slice from a DataFrame.\n",
            "Try using .loc[row_indexer,col_indexer] = value instead\n",
            "\n",
            "See the caveats in the documentation: https://pandas.pydata.org/pandas-docs/stable/user_guide/indexing.html#returning-a-view-versus-a-copy\n",
            "  df['isThree'] = df['batsman_runs'].apply(lambda x: 1 if x == 3 else 0)\n",
            "<ipython-input-57-48628cf7252b>:10: SettingWithCopyWarning: \n",
            "A value is trying to be set on a copy of a slice from a DataFrame.\n",
            "Try using .loc[row_indexer,col_indexer] = value instead\n",
            "\n",
            "See the caveats in the documentation: https://pandas.pydata.org/pandas-docs/stable/user_guide/indexing.html#returning-a-view-versus-a-copy\n",
            "  df['isFour'] = df['batsman_runs'].apply(lambda x: 1 if x == 4 else 0)\n",
            "<ipython-input-57-48628cf7252b>:11: SettingWithCopyWarning: \n",
            "A value is trying to be set on a copy of a slice from a DataFrame.\n",
            "Try using .loc[row_indexer,col_indexer] = value instead\n",
            "\n",
            "See the caveats in the documentation: https://pandas.pydata.org/pandas-docs/stable/user_guide/indexing.html#returning-a-view-versus-a-copy\n",
            "  df['isSix'] = df['batsman_runs'].apply(lambda x: 1 if x == 6 else 0)\n"
          ]
        }
      ]
    },
    {
      "cell_type": "code",
      "source": [
        "againstrcb.head(5)"
      ],
      "metadata": {
        "colab": {
          "base_uri": "https://localhost:8080/",
          "height": 206
        },
        "id": "fWBZ7lyDTAHO",
        "outputId": "3b11ffaa-ec40-4064-cc17-c8561abdb0b8"
      },
      "execution_count": 73,
      "outputs": [
        {
          "output_type": "execute_result",
          "data": {
            "text/plain": [
              "          batsman  innings  runs  balls  dismissals  dots  ones  twos  threes  \\\n",
              "0  A Ashish Reddy        5    55     42           4    15    19     2       0   \n",
              "1        A Badoni        1    13     13           1     7     3     1       0   \n",
              "2      A Chandila        1     4      6           0     2     4     0       0   \n",
              "3        A Chopra        1     2      5           1     3     2     0       0   \n",
              "4      A Flintoff        1    22     14           0     3     8     0       0   \n",
              "\n",
              "   fours  sixes          SR   RPI   BPD       BPB  \n",
              "0      2      4  130.952381  11.0  10.5  7.000000  \n",
              "1      2      0  100.000000  13.0  13.0  6.500000  \n",
              "2      0      0   66.666667   4.0   6.0  6.000000  \n",
              "3      0      0   40.000000   2.0   5.0  5.000000  \n",
              "4      2      1  157.142857  22.0  14.0  4.666667  "
            ],
            "text/html": [
              "\n",
              "  <div id=\"df-56a333fb-4c77-471d-9de3-af61bbc27057\">\n",
              "    <div class=\"colab-df-container\">\n",
              "      <div>\n",
              "<style scoped>\n",
              "    .dataframe tbody tr th:only-of-type {\n",
              "        vertical-align: middle;\n",
              "    }\n",
              "\n",
              "    .dataframe tbody tr th {\n",
              "        vertical-align: top;\n",
              "    }\n",
              "\n",
              "    .dataframe thead th {\n",
              "        text-align: right;\n",
              "    }\n",
              "</style>\n",
              "<table border=\"1\" class=\"dataframe\">\n",
              "  <thead>\n",
              "    <tr style=\"text-align: right;\">\n",
              "      <th></th>\n",
              "      <th>batsman</th>\n",
              "      <th>innings</th>\n",
              "      <th>runs</th>\n",
              "      <th>balls</th>\n",
              "      <th>dismissals</th>\n",
              "      <th>dots</th>\n",
              "      <th>ones</th>\n",
              "      <th>twos</th>\n",
              "      <th>threes</th>\n",
              "      <th>fours</th>\n",
              "      <th>sixes</th>\n",
              "      <th>SR</th>\n",
              "      <th>RPI</th>\n",
              "      <th>BPD</th>\n",
              "      <th>BPB</th>\n",
              "    </tr>\n",
              "  </thead>\n",
              "  <tbody>\n",
              "    <tr>\n",
              "      <th>0</th>\n",
              "      <td>A Ashish Reddy</td>\n",
              "      <td>5</td>\n",
              "      <td>55</td>\n",
              "      <td>42</td>\n",
              "      <td>4</td>\n",
              "      <td>15</td>\n",
              "      <td>19</td>\n",
              "      <td>2</td>\n",
              "      <td>0</td>\n",
              "      <td>2</td>\n",
              "      <td>4</td>\n",
              "      <td>130.952381</td>\n",
              "      <td>11.0</td>\n",
              "      <td>10.5</td>\n",
              "      <td>7.000000</td>\n",
              "    </tr>\n",
              "    <tr>\n",
              "      <th>1</th>\n",
              "      <td>A Badoni</td>\n",
              "      <td>1</td>\n",
              "      <td>13</td>\n",
              "      <td>13</td>\n",
              "      <td>1</td>\n",
              "      <td>7</td>\n",
              "      <td>3</td>\n",
              "      <td>1</td>\n",
              "      <td>0</td>\n",
              "      <td>2</td>\n",
              "      <td>0</td>\n",
              "      <td>100.000000</td>\n",
              "      <td>13.0</td>\n",
              "      <td>13.0</td>\n",
              "      <td>6.500000</td>\n",
              "    </tr>\n",
              "    <tr>\n",
              "      <th>2</th>\n",
              "      <td>A Chandila</td>\n",
              "      <td>1</td>\n",
              "      <td>4</td>\n",
              "      <td>6</td>\n",
              "      <td>0</td>\n",
              "      <td>2</td>\n",
              "      <td>4</td>\n",
              "      <td>0</td>\n",
              "      <td>0</td>\n",
              "      <td>0</td>\n",
              "      <td>0</td>\n",
              "      <td>66.666667</td>\n",
              "      <td>4.0</td>\n",
              "      <td>6.0</td>\n",
              "      <td>6.000000</td>\n",
              "    </tr>\n",
              "    <tr>\n",
              "      <th>3</th>\n",
              "      <td>A Chopra</td>\n",
              "      <td>1</td>\n",
              "      <td>2</td>\n",
              "      <td>5</td>\n",
              "      <td>1</td>\n",
              "      <td>3</td>\n",
              "      <td>2</td>\n",
              "      <td>0</td>\n",
              "      <td>0</td>\n",
              "      <td>0</td>\n",
              "      <td>0</td>\n",
              "      <td>40.000000</td>\n",
              "      <td>2.0</td>\n",
              "      <td>5.0</td>\n",
              "      <td>5.000000</td>\n",
              "    </tr>\n",
              "    <tr>\n",
              "      <th>4</th>\n",
              "      <td>A Flintoff</td>\n",
              "      <td>1</td>\n",
              "      <td>22</td>\n",
              "      <td>14</td>\n",
              "      <td>0</td>\n",
              "      <td>3</td>\n",
              "      <td>8</td>\n",
              "      <td>0</td>\n",
              "      <td>0</td>\n",
              "      <td>2</td>\n",
              "      <td>1</td>\n",
              "      <td>157.142857</td>\n",
              "      <td>22.0</td>\n",
              "      <td>14.0</td>\n",
              "      <td>4.666667</td>\n",
              "    </tr>\n",
              "  </tbody>\n",
              "</table>\n",
              "</div>\n",
              "      <button class=\"colab-df-convert\" onclick=\"convertToInteractive('df-56a333fb-4c77-471d-9de3-af61bbc27057')\"\n",
              "              title=\"Convert this dataframe to an interactive table.\"\n",
              "              style=\"display:none;\">\n",
              "        \n",
              "  <svg xmlns=\"http://www.w3.org/2000/svg\" height=\"24px\"viewBox=\"0 0 24 24\"\n",
              "       width=\"24px\">\n",
              "    <path d=\"M0 0h24v24H0V0z\" fill=\"none\"/>\n",
              "    <path d=\"M18.56 5.44l.94 2.06.94-2.06 2.06-.94-2.06-.94-.94-2.06-.94 2.06-2.06.94zm-11 1L8.5 8.5l.94-2.06 2.06-.94-2.06-.94L8.5 2.5l-.94 2.06-2.06.94zm10 10l.94 2.06.94-2.06 2.06-.94-2.06-.94-.94-2.06-.94 2.06-2.06.94z\"/><path d=\"M17.41 7.96l-1.37-1.37c-.4-.4-.92-.59-1.43-.59-.52 0-1.04.2-1.43.59L10.3 9.45l-7.72 7.72c-.78.78-.78 2.05 0 2.83L4 21.41c.39.39.9.59 1.41.59.51 0 1.02-.2 1.41-.59l7.78-7.78 2.81-2.81c.8-.78.8-2.07 0-2.86zM5.41 20L4 18.59l7.72-7.72 1.47 1.35L5.41 20z\"/>\n",
              "  </svg>\n",
              "      </button>\n",
              "      \n",
              "  <style>\n",
              "    .colab-df-container {\n",
              "      display:flex;\n",
              "      flex-wrap:wrap;\n",
              "      gap: 12px;\n",
              "    }\n",
              "\n",
              "    .colab-df-convert {\n",
              "      background-color: #E8F0FE;\n",
              "      border: none;\n",
              "      border-radius: 50%;\n",
              "      cursor: pointer;\n",
              "      display: none;\n",
              "      fill: #1967D2;\n",
              "      height: 32px;\n",
              "      padding: 0 0 0 0;\n",
              "      width: 32px;\n",
              "    }\n",
              "\n",
              "    .colab-df-convert:hover {\n",
              "      background-color: #E2EBFA;\n",
              "      box-shadow: 0px 1px 2px rgba(60, 64, 67, 0.3), 0px 1px 3px 1px rgba(60, 64, 67, 0.15);\n",
              "      fill: #174EA6;\n",
              "    }\n",
              "\n",
              "    [theme=dark] .colab-df-convert {\n",
              "      background-color: #3B4455;\n",
              "      fill: #D2E3FC;\n",
              "    }\n",
              "\n",
              "    [theme=dark] .colab-df-convert:hover {\n",
              "      background-color: #434B5C;\n",
              "      box-shadow: 0px 1px 3px 1px rgba(0, 0, 0, 0.15);\n",
              "      filter: drop-shadow(0px 1px 2px rgba(0, 0, 0, 0.3));\n",
              "      fill: #FFFFFF;\n",
              "    }\n",
              "  </style>\n",
              "\n",
              "      <script>\n",
              "        const buttonEl =\n",
              "          document.querySelector('#df-56a333fb-4c77-471d-9de3-af61bbc27057 button.colab-df-convert');\n",
              "        buttonEl.style.display =\n",
              "          google.colab.kernel.accessAllowed ? 'block' : 'none';\n",
              "\n",
              "        async function convertToInteractive(key) {\n",
              "          const element = document.querySelector('#df-56a333fb-4c77-471d-9de3-af61bbc27057');\n",
              "          const dataTable =\n",
              "            await google.colab.kernel.invokeFunction('convertToInteractive',\n",
              "                                                     [key], {});\n",
              "          if (!dataTable) return;\n",
              "\n",
              "          const docLinkHtml = 'Like what you see? Visit the ' +\n",
              "            '<a target=\"_blank\" href=https://colab.research.google.com/notebooks/data_table.ipynb>data table notebook</a>'\n",
              "            + ' to learn more about interactive tables.';\n",
              "          element.innerHTML = '';\n",
              "          dataTable['output_type'] = 'display_data';\n",
              "          await google.colab.output.renderOutput(dataTable, element);\n",
              "          const docLink = document.createElement('div');\n",
              "          docLink.innerHTML = docLinkHtml;\n",
              "          element.appendChild(docLink);\n",
              "        }\n",
              "      </script>\n",
              "    </div>\n",
              "  </div>\n",
              "  "
            ]
          },
          "metadata": {},
          "execution_count": 73
        }
      ]
    },
    {
      "cell_type": "code",
      "source": [
        "againstrcb.groupby('batsman')['runs'].sum().sort_values(ascending=False).head(10)"
      ],
      "metadata": {
        "colab": {
          "base_uri": "https://localhost:8080/"
        },
        "id": "hgwYG5u2TCxx",
        "outputId": "4da52a8e-dd66-4d8a-8f1f-622b8edeeb17"
      },
      "execution_count": 74,
      "outputs": [
        {
          "output_type": "execute_result",
          "data": {
            "text/plain": [
              "batsman\n",
              "MS Dhoni      838\n",
              "DA Warner     820\n",
              "RG Sharma     785\n",
              "AT Rayudu     714\n",
              "SK Raina      702\n",
              "RV Uthappa    687\n",
              "S Dhawan      679\n",
              "AM Rahane     648\n",
              "G Gambhir     647\n",
              "KL Rahul      610\n",
              "Name: runs, dtype: int64"
            ]
          },
          "metadata": {},
          "execution_count": 74
        }
      ]
    },
    {
      "cell_type": "code",
      "source": [
        "againstrcb.groupby('batsman')['runs'].sum().sort_values(ascending=False).head(10).plot(kind='bar',color='r')\n",
        "plt.xlabel('Player Name')\n",
        "plt.ylabel('Total Runs')\n",
        "plt.title('Most Runs vs CSK')\n",
        "plt.plot()"
      ],
      "metadata": {
        "colab": {
          "base_uri": "https://localhost:8080/",
          "height": 557
        },
        "id": "IBSdvqSYTNXQ",
        "outputId": "d2ae5183-4879-437e-c1dc-7715f82bdd6b"
      },
      "execution_count": 76,
      "outputs": [
        {
          "output_type": "execute_result",
          "data": {
            "text/plain": [
              "[]"
            ]
          },
          "metadata": {},
          "execution_count": 76
        },
        {
          "output_type": "display_data",
          "data": {
            "text/plain": [
              "<Figure size 640x480 with 1 Axes>"
            ],
            "image/png": "[encoded data removed]"
          },
          "metadata": {}
        }
      ]
    },
    {
      "cell_type": "code",
      "source": [
        "againstrcb.groupby('batsman')['dots'].sum().sort_values(ascending=False).head(10)"
      ],
      "metadata": {
        "colab": {
          "base_uri": "https://localhost:8080/"
        },
        "id": "mrZrAxyOTYGo",
        "outputId": "9e09fc9a-1553-44cd-9adc-fffe6224181d"
      },
      "execution_count": 78,
      "outputs": [
        {
          "output_type": "execute_result",
          "data": {
            "text/plain": [
              "batsman\n",
              "SK Raina       229\n",
              "RG Sharma      226\n",
              "AT Rayudu      225\n",
              "MS Dhoni       217\n",
              "S Dhawan       209\n",
              "RV Uthappa     203\n",
              "DA Warner      190\n",
              "AM Rahane      188\n",
              "G Gambhir      181\n",
              "BB McCullum    163\n",
              "Name: dots, dtype: int64"
            ]
          },
          "metadata": {},
          "execution_count": 78
        }
      ]
    },
    {
      "cell_type": "code",
      "source": [
        "againstrcb.groupby('batsman')['fours'].sum().sort_values(ascending=False).head(10)"
      ],
      "metadata": {
        "colab": {
          "base_uri": "https://localhost:8080/"
        },
        "id": "qU1VHw10Tgy6",
        "outputId": "8702fa37-e3a9-4659-9db1-0ff2a9d201e8"
      },
      "execution_count": 79,
      "outputs": [
        {
          "output_type": "execute_result",
          "data": {
            "text/plain": [
              "batsman\n",
              "G Gambhir      78\n",
              "DA Warner      74\n",
              "S Dhawan       73\n",
              "AM Rahane      73\n",
              "RG Sharma      72\n",
              "RV Uthappa     70\n",
              "SK Raina       63\n",
              "BB McCullum    55\n",
              "AT Rayudu      55\n",
              "MS Dhoni       51\n",
              "Name: fours, dtype: int64"
            ]
          },
          "metadata": {},
          "execution_count": 79
        }
      ]
    },
    {
      "cell_type": "code",
      "source": [
        "againstrcb.groupby('batsman')['sixes'].sum().sort_values(ascending=False).head(10)"
      ],
      "metadata": {
        "colab": {
          "base_uri": "https://localhost:8080/"
        },
        "id": "kQ3LJ2KUTjLj",
        "outputId": "2becbd63-8212-494d-eb74-1ba73c86bd7d"
      },
      "execution_count": 80,
      "outputs": [
        {
          "output_type": "execute_result",
          "data": {
            "text/plain": [
              "batsman\n",
              "MS Dhoni       46\n",
              "DA Warner      43\n",
              "AD Russell     38\n",
              "KL Rahul       35\n",
              "RG Sharma      34\n",
              "KA Pollard     32\n",
              "SK Raina       31\n",
              "BB McCullum    30\n",
              "AT Rayudu      29\n",
              "RV Uthappa     27\n",
              "Name: sixes, dtype: int64"
            ]
          },
          "metadata": {},
          "execution_count": 80
        }
      ]
    },
    {
      "cell_type": "markdown",
      "source": [
        "#Stats of Some Big Players vs Teams"
      ],
      "metadata": {
        "id": "8839UriXTm82"
      }
    },
    {
      "cell_type": "code",
      "source": [
        "deliveries[deliveries.batsman=='V Kohli'].groupby('bowling_team')['batsman_runs'].sum().sort_values().plot(kind='barh',color='r')\n",
        "plt.xlabel('Total Runs')\n",
        "plt.ylabel('Teams')\n",
        "plt.title(\"Virat's Runs vs Different Team\")\n",
        "plt.plot()"
      ],
      "metadata": {
        "colab": {
          "base_uri": "https://localhost:8080/",
          "height": 489
        },
        "id": "lJbTtQawTlYO",
        "outputId": "48d0e566-c7b3-49bb-d470-f976a9b7dec8"
      },
      "execution_count": 85,
      "outputs": [
        {
          "output_type": "execute_result",
          "data": {
            "text/plain": [
              "[]"
            ]
          },
          "metadata": {},
          "execution_count": 85
        },
        {
          "output_type": "display_data",
          "data": {
            "text/plain": [
              "<Figure size 640x480 with 1 Axes>"
            ],
            "image/png": "[encoded data removed]"
          },
          "metadata": {}
        }
      ]
    },
    {
      "cell_type": "code",
      "source": [
        "deliveries[deliveries.batsman=='RG Sharma'].groupby('bowling_team')['batsman_runs'].sum().sort_values().plot(kind='barh',color='b')\n",
        "plt.xlabel('Total Runs')\n",
        "plt.ylabel('Teams')\n",
        "plt.title(\"Rohit's Runs vs Different Team\")\n",
        "plt.plot()"
      ],
      "metadata": {
        "colab": {
          "base_uri": "https://localhost:8080/",
          "height": 489
        },
        "id": "yOkFomtVT8SO",
        "outputId": "2bf1eff5-a3b8-4245-b13d-88315821ed4b"
      },
      "execution_count": 86,
      "outputs": [
        {
          "output_type": "execute_result",
          "data": {
            "text/plain": [
              "[]"
            ]
          },
          "metadata": {},
          "execution_count": 86
        },
        {
          "output_type": "display_data",
          "data": {
            "text/plain": [
              "<Figure size 640x480 with 1 Axes>"
            ],
            "image/png": "[encoded data removed]"
          },
          "metadata": {}
        }
      ]
    },
    {
      "cell_type": "code",
      "source": [
        "deliveries[deliveries.batsman=='MS Dhoni'].groupby('bowling_team')['batsman_runs'].sum().sort_values().plot(kind='barh',color='y')\n",
        "plt.xlabel('Total Runs')\n",
        "plt.ylabel('Teams')\n",
        "plt.title(\"Dhoni's Runs vs Different Team\")\n",
        "plt.plot()"
      ],
      "metadata": {
        "colab": {
          "base_uri": "https://localhost:8080/",
          "height": 489
        },
        "id": "sKOAUkXyUwb7",
        "outputId": "509b7205-9ff4-422f-b999-b60b22d18abd"
      },
      "execution_count": 88,
      "outputs": [
        {
          "output_type": "execute_result",
          "data": {
            "text/plain": [
              "[]"
            ]
          },
          "metadata": {},
          "execution_count": 88
        },
        {
          "output_type": "display_data",
          "data": {
            "text/plain": [
              "<Figure size 640x480 with 1 Axes>"
            ],
            "image/png": "[encoded data removed]"
          },
          "metadata": {}
        }
      ]
    },
    {
      "cell_type": "code",
      "source": [
        "deliveries[deliveries.batsman=='KL Rahul'].groupby('bowling_team')['batsman_runs'].sum().sort_values().plot(kind='barh',color='cyan')\n",
        "plt.xlabel('Total Runs')\n",
        "plt.ylabel('Teams')\n",
        "plt.title(\"KL's Runs vs Different Team\")\n",
        "plt.plot()"
      ],
      "metadata": {
        "colab": {
          "base_uri": "https://localhost:8080/",
          "height": 489
        },
        "id": "Yf7DwxJvU4Is",
        "outputId": "0456badb-4b7c-43a8-d062-8fa96b70633d"
      },
      "execution_count": 89,
      "outputs": [
        {
          "output_type": "execute_result",
          "data": {
            "text/plain": [
              "[]"
            ]
          },
          "metadata": {},
          "execution_count": 89
        },
        {
          "output_type": "display_data",
          "data": {
            "text/plain": [
              "<Figure size 640x480 with 1 Axes>"
            ],
            "image/png": "[encoded data removed]"
          },
          "metadata": {}
        }
      ]
    },
    {
      "cell_type": "code",
      "source": [],
      "metadata": {
        "id": "qQU8Az5_VH8Y"
      },
      "execution_count": null,
      "outputs": []
    }
  ]
}